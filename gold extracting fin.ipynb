{
 "cells": [
  {
   "cell_type": "markdown",
   "metadata": {
    "toc": true
   },
   "source": [
    "<h1>Содержание<span class=\"tocSkip\"></span></h1>\n",
    "<div class=\"toc\"><ul class=\"toc-item\"><li><span><a href=\"#Технологический-процесс\" data-toc-modified-id=\"Технологический-процесс-1\"><span class=\"toc-item-num\">1&nbsp;&nbsp;</span>Технологический процесс</a></span></li><li><span><a href=\"#Описание-данных\" data-toc-modified-id=\"Описание-данных-2\"><span class=\"toc-item-num\">2&nbsp;&nbsp;</span>Описание данных</a></span><ul class=\"toc-item\"><li><span><a href=\"#Технологический-процесс\" data-toc-modified-id=\"Технологический-процесс-2.1\"><span class=\"toc-item-num\">2.1&nbsp;&nbsp;</span>Технологический процесс</a></span></li><li><span><a href=\"#Параметры-этапов\" data-toc-modified-id=\"Параметры-этапов-2.2\"><span class=\"toc-item-num\">2.2&nbsp;&nbsp;</span>Параметры этапов</a></span></li></ul></li><li><span><a href=\"#Наименование-признаков\" data-toc-modified-id=\"Наименование-признаков-3\"><span class=\"toc-item-num\">3&nbsp;&nbsp;</span>Наименование признаков</a></span><ul class=\"toc-item\"><li><span><a href=\"#Возможные-значения-для-блока-[этап]:\" data-toc-modified-id=\"Возможные-значения-для-блока-[этап]:-3.1\"><span class=\"toc-item-num\">3.1&nbsp;&nbsp;</span>Возможные значения для блока [этап]:</a></span></li><li><span><a href=\"#Возможные-значения-для-блока-[тип_параметра]:\" data-toc-modified-id=\"Возможные-значения-для-блока-[тип_параметра]:-3.2\"><span class=\"toc-item-num\">3.2&nbsp;&nbsp;</span>Возможные значения для блока [тип_параметра]:</a></span></li></ul></li><li><span><a href=\"#Метрика-качества-sMAPE\" data-toc-modified-id=\"Метрика-качества-sMAPE-4\"><span class=\"toc-item-num\">4&nbsp;&nbsp;</span>Метрика качества sMAPE</a></span></li><li><span><a href=\"#Цель-проекта\" data-toc-modified-id=\"Цель-проекта-5\"><span class=\"toc-item-num\">5&nbsp;&nbsp;</span>Цель проекта</a></span></li><li><span><a href=\"#Описание-проекта\" data-toc-modified-id=\"Описание-проекта-6\"><span class=\"toc-item-num\">6&nbsp;&nbsp;</span>Описание проекта</a></span></li><li><span><a href=\"#Подготовка-данных\" data-toc-modified-id=\"Подготовка-данных-7\"><span class=\"toc-item-num\">7&nbsp;&nbsp;</span>Подготовка данных</a></span></li><li><span><a href=\"#Проверка-на-дубликаты\" data-toc-modified-id=\"Проверка-на-дубликаты-8\"><span class=\"toc-item-num\">8&nbsp;&nbsp;</span>Проверка на дубликаты</a></span></li><li><span><a href=\"#Предварительный-анализ-полученных-данных\" data-toc-modified-id=\"Предварительный-анализ-полученных-данных-9\"><span class=\"toc-item-num\">9&nbsp;&nbsp;</span>Предварительный анализ полученных данных</a></span></li><li><span><a href=\"#Обработка-пропусков\" data-toc-modified-id=\"Обработка-пропусков-10\"><span class=\"toc-item-num\">10&nbsp;&nbsp;</span>Обработка пропусков</a></span></li><li><span><a href=\"#Расчёт-эффективности\" data-toc-modified-id=\"Расчёт-эффективности-11\"><span class=\"toc-item-num\">11&nbsp;&nbsp;</span>Расчёт эффективности</a></span><ul class=\"toc-item\"><li><span><a href=\"#Анализ-признаков,-недоступных-в-тестовой-выборке\" data-toc-modified-id=\"Анализ-признаков,-недоступных-в-тестовой-выборке-11.1\"><span class=\"toc-item-num\">11.1&nbsp;&nbsp;</span>Анализ признаков, недоступных в тестовой выборке</a></span></li><li><span><a href=\"#Вывод-по-полученным-данным-и-их-обработке\" data-toc-modified-id=\"Вывод-по-полученным-данным-и-их-обработке-11.2\"><span class=\"toc-item-num\">11.2&nbsp;&nbsp;</span>Вывод по полученным данным и их обработке</a></span></li></ul></li><li><span><a href=\"#Анализ-данных\" data-toc-modified-id=\"Анализ-данных-12\"><span class=\"toc-item-num\">12&nbsp;&nbsp;</span>Анализ данных</a></span><ul class=\"toc-item\"><li><span><a href=\"#Распределения-размеров-гранул-сырья-на-обучающей-и-тестовой-выборках\" data-toc-modified-id=\"Распределения-размеров-гранул-сырья-на-обучающей-и-тестовой-выборках-12.1\"><span class=\"toc-item-num\">12.1&nbsp;&nbsp;</span>Распределения размеров гранул сырья на обучающей и тестовой выборках</a></span></li><li><span><a href=\"#Сумарная-концентрация-всех-веществ-в-руде-на-разных-стадиях\" data-toc-modified-id=\"Сумарная-концентрация-всех-веществ-в-руде-на-разных-стадиях-12.2\"><span class=\"toc-item-num\">12.2&nbsp;&nbsp;</span>Сумарная концентрация всех веществ в руде на разных стадиях</a></span></li></ul></li><li><span><a href=\"#Модель\" data-toc-modified-id=\"Модель-13\"><span class=\"toc-item-num\">13&nbsp;&nbsp;</span>Модель</a></span><ul class=\"toc-item\"><li><span><a href=\"#Настройка-гиперпараметров\" data-toc-modified-id=\"Настройка-гиперпараметров-13.1\"><span class=\"toc-item-num\">13.1&nbsp;&nbsp;</span>Настройка гиперпараметров</a></span></li><li><span><a href=\"#Вывод-по-проверке-на-тестовой-таблице\" data-toc-modified-id=\"Вывод-по-проверке-на-тестовой-таблице-13.2\"><span class=\"toc-item-num\">13.2&nbsp;&nbsp;</span>Вывод по проверке на тестовой таблице</a></span></li><li><span><a href=\"#Общий-вывод\" data-toc-modified-id=\"Общий-вывод-13.3\"><span class=\"toc-item-num\">13.3&nbsp;&nbsp;</span>Общий вывод</a></span></li></ul></li><li><span><a href=\"#Чек-лист-готовности-проекта\" data-toc-modified-id=\"Чек-лист-готовности-проекта-14\"><span class=\"toc-item-num\">14&nbsp;&nbsp;</span>Чек-лист готовности проекта</a></span></li></ul></div>"
   ]
  },
  {
   "cell_type": "markdown",
   "metadata": {},
   "source": [
    "# Восстановление золота из руды"
   ]
  },
  {
   "attachments": {},
   "cell_type": "markdown",
   "metadata": {},
   "source": [
    "Подготовьте прототип модели машинного обучения для компании Noname. Компания разрабатывает решения для эффективной работы промышленных предприятий.\n",
    "\n",
    "Модель должна предсказать коэффициент восстановления золота из золотосодержащей руды. Используйте данные с параметрами добычи и очистки. \n",
    "\n",
    "Модель поможет оптимизировать производство, чтобы не запускать предприятие с убыточными характеристиками.\n",
    "\n",
    "Вам нужно:\n",
    "\n",
    "1. Подготовить данные;\n",
    "2. Провести исследовательский анализ данных;\n",
    "3. Построить и обучить модель.\n",
    "\n",
    "Чтобы выполнить проект, обращайтесь к библиотекам *pandas*, *matplotlib* и *sklearn.* Вам поможет их документация."
   ]
  },
  {
   "cell_type": "markdown",
   "metadata": {},
   "source": [
    "## Технологический процесс\n",
    "\n",
    "Когда добытая руда проходит первичную обработку, получается дроблёная смесь. Её отправляют на флотацию (обогащение) и двухэтапную очистку.\n",
    "\n",
    "1. **Флотация:**\n",
    "    Во флотационную установку подаётся смесь золотосодержащей руды. После обогащения получается черновой концентрат и «отвальные хвосты», то есть остатки продукта с низкой концентрацией ценных металлов.\n",
    "На стабильность этого процесса влияет непостоянное и неоптимальное физико-химическое состояние флотационной пульпы (смеси твёрдых частиц и жидкости).\n",
    "2. **Очистка:**\n",
    "    Черновой концентрат проходит две очистки. На выходе получается финальный концентрат и новые отвальные хвосты."
   ]
  },
  {
   "cell_type": "markdown",
   "metadata": {},
   "source": [
    "## Описание данных\n",
    "\n",
    "### Технологический процесс\n",
    "Rougher feed — исходное сырье\\\n",
    "Rougher additions (или reagent additions) — флотационные реагенты: Xanthate, Sulphate, Depressant\n",
    " - Xanthate — ксантогенат (промотер, или активатор флотации);\n",
    " - Sulphate — сульфат (на данном производстве сульфид натрия);\n",
    " - Depressant — депрессант (силикат натрия).\n",
    "\n",
    "Rougher process (англ. «грубый процесс») — флотация \\\n",
    "Rougher tails — отвальные хвосты \\\n",
    "Float banks — флотационная установка \\\n",
    "Cleaner process — очистка \\\n",
    "Rougher Au — черновой концентрат золота \\\n",
    "Final Au — финальный концентрат золота \n",
    "\n",
    "### Параметры этапов\n",
    "air amount — объём воздуха \\\n",
    "fluid levels — уровень жидкости \\\n",
    "feed size — размер гранул сырья \\\n",
    "feed rate — скорость подачи "
   ]
  },
  {
   "cell_type": "markdown",
   "metadata": {},
   "source": [
    "## Наименование признаков\n",
    "Наименование признаков должно быть такое: \\\n",
    "[этап].[тип_параметра].[название_параметра] \\\n",
    "Пример: rougher.input.feed_ag\n",
    "\n",
    "### Возможные значения для блока [этап]:\n",
    "rougher — флотация \\\n",
    "primary_cleaner — первичная очистка \\\n",
    "secondary_cleaner — вторичная очистка \\\n",
    "final — финальные характеристики \n",
    "\n",
    "### Возможные значения для блока [тип_параметра]:\n",
    "input — параметры сырья \\\n",
    "output — параметры продукта \\\n",
    "state — параметры, характеризующие текущее состояние этапа \\\n",
    "calculation — расчётные характеристики"
   ]
  },
  {
   "cell_type": "markdown",
   "metadata": {},
   "source": [
    "## Метрика качества sMAPE\n",
    "Для решения задачи будет введена новая метрика качества — sMAPE (англ. Symmetric Mean Absolute Percentage Error, «симметричное среднее абсолютное процентное отклонение»).\n",
    "Она похожа на MAE, но выражается не в абсолютных величинах, а в относительных. Почему симметричная? Она одинаково учитывает масштаб и целевого признака, и предсказания."
   ]
  },
  {
   "cell_type": "markdown",
   "metadata": {},
   "source": [
    "## Цель проекта\n",
    "Нужно спрогнозировать сразу две величины:\n",
    "\n",
    " - эффективность обогащения чернового концентрата <font color='green'> rougher.output.recovery </font> \n",
    " - эффективность обогащения финального концентрата <font color='green'> final.output.recovery </font>"
   ]
  },
  {
   "cell_type": "markdown",
   "metadata": {},
   "source": [
    "## Описание проекта\n",
    "\n",
    "Данные находятся в трёх файлах:\n",
    "\n",
    " - gold_recovery_train_new.csv — обучающая выборка;\n",
    " - gold_recovery_test_new.csv — тестовая выборка;\n",
    " - gold_recovery_full_new.csv — исходные данные.\n",
    " \n",
    "Данные индексируются датой и временем получения информации (признак date). Соседние по времени параметры часто похожи.\n",
    "Некоторые параметры недоступны, потому что замеряются и/или рассчитываются значительно позже. Из-за этого в тестовой выборке отсутствуют некоторые признаки, которые могут быть в обучающей. Также в тестовом наборе нет целевых признаков.\n",
    "Исходный датасет содержит обучающую и тестовую выборки со всеми признаками."
   ]
  },
  {
   "cell_type": "markdown",
   "metadata": {},
   "source": [
    "## Подготовка данных"
   ]
  },
  {
   "cell_type": "code",
   "execution_count": 1,
   "metadata": {},
   "outputs": [],
   "source": [
    "# скачаем требуемые в работе модули\n",
    "from time import time\n",
    "import pandas as pd\n",
    "import numpy as np\n",
    "import seaborn as sns\n",
    "import scipy.stats as st\n",
    "import matplotlib.pyplot as plt\n",
    "import joblib\n",
    "from sklearn.neighbors import NearestNeighbors\n",
    "from sklearn.cluster import DBSCAN\n",
    "from scipy import stats as st \n",
    "from sklearn import metrics\n",
    "from sklearn.impute import KNNImputer\n",
    "from sklearn.metrics import roc_curve, roc_auc_score, r2_score, mean_absolute_error\n",
    "from sklearn.metrics import mean_squared_error, make_scorer, explained_variance_score\n",
    "from sklearn.model_selection import train_test_split, GridSearchCV, cross_val_score\n",
    "from sklearn.linear_model import LinearRegression, Ridge, Lasso\n",
    "from sklearn.neighbors import KNeighborsRegressor\n",
    "from sklearn.ensemble import GradientBoostingRegressor\n",
    "from sklearn.ensemble import ExtraTreesRegressor, RandomForestRegressor\n",
    "from sklearn.tree import DecisionTreeRegressor\n",
    "from sklearn.dummy import DummyRegressor\n",
    "import warnings\n",
    "warnings.filterwarnings('ignore')"
   ]
  },
  {
   "cell_type": "code",
   "execution_count": 2,
   "metadata": {},
   "outputs": [],
   "source": [
    "#Назначим константу для randon_state\n",
    "RANDOM_STATE = 0"
   ]
  },
  {
   "cell_type": "code",
   "execution_count": 3,
   "metadata": {},
   "outputs": [],
   "source": [
    "# Создадим датафреймы:\n",
    "try:\n",
    "    data_train = pd.read_csv('gold_recovery_train_new.csv')\n",
    "except:\n",
    "    data_train = pd.read_csv('datasets/gold_recovery_train_new.csv') # если работа ведется не локально\n",
    "\n",
    "try:\n",
    "    data_test = pd.read_csv('gold_recovery_test_new.csv')\n",
    "except:\n",
    "    data_test = pd.read_csv('gold_recovery_test_new.csv') # если работа ведется в не локально\n",
    "\n",
    "try:\n",
    "    data_full = pd.read_csv('gold_recovery_full_new.csv')\n",
    "except:\n",
    "    data_full = pd.read_csv('datasets/gold_recovery_full_new.csv') # если работа ведется не локально"
   ]
  },
  {
   "cell_type": "code",
   "execution_count": 4,
   "metadata": {},
   "outputs": [
    {
     "name": "stdout",
     "output_type": "stream",
     "text": [
      "<class 'pandas.core.frame.DataFrame'>\n",
      "RangeIndex: 14149 entries, 0 to 14148\n",
      "Data columns (total 87 columns):\n",
      " #   Column                                              Non-Null Count  Dtype  \n",
      "---  ------                                              --------------  -----  \n",
      " 0   date                                                14149 non-null  object \n",
      " 1   final.output.concentrate_ag                         14148 non-null  float64\n",
      " 2   final.output.concentrate_pb                         14148 non-null  float64\n",
      " 3   final.output.concentrate_sol                        13938 non-null  float64\n",
      " 4   final.output.concentrate_au                         14149 non-null  float64\n",
      " 5   final.output.recovery                               14149 non-null  float64\n",
      " 6   final.output.tail_ag                                14149 non-null  float64\n",
      " 7   final.output.tail_pb                                14049 non-null  float64\n",
      " 8   final.output.tail_sol                               14144 non-null  float64\n",
      " 9   final.output.tail_au                                14149 non-null  float64\n",
      " 10  primary_cleaner.input.sulfate                       14129 non-null  float64\n",
      " 11  primary_cleaner.input.depressant                    14117 non-null  float64\n",
      " 12  primary_cleaner.input.feed_size                     14149 non-null  float64\n",
      " 13  primary_cleaner.input.xanthate                      14049 non-null  float64\n",
      " 14  primary_cleaner.output.concentrate_ag               14149 non-null  float64\n",
      " 15  primary_cleaner.output.concentrate_pb               14063 non-null  float64\n",
      " 16  primary_cleaner.output.concentrate_sol              13863 non-null  float64\n",
      " 17  primary_cleaner.output.concentrate_au               14149 non-null  float64\n",
      " 18  primary_cleaner.output.tail_ag                      14148 non-null  float64\n",
      " 19  primary_cleaner.output.tail_pb                      14134 non-null  float64\n",
      " 20  primary_cleaner.output.tail_sol                     14103 non-null  float64\n",
      " 21  primary_cleaner.output.tail_au                      14149 non-null  float64\n",
      " 22  primary_cleaner.state.floatbank8_a_air              14145 non-null  float64\n",
      " 23  primary_cleaner.state.floatbank8_a_level            14148 non-null  float64\n",
      " 24  primary_cleaner.state.floatbank8_b_air              14145 non-null  float64\n",
      " 25  primary_cleaner.state.floatbank8_b_level            14148 non-null  float64\n",
      " 26  primary_cleaner.state.floatbank8_c_air              14147 non-null  float64\n",
      " 27  primary_cleaner.state.floatbank8_c_level            14148 non-null  float64\n",
      " 28  primary_cleaner.state.floatbank8_d_air              14146 non-null  float64\n",
      " 29  primary_cleaner.state.floatbank8_d_level            14148 non-null  float64\n",
      " 30  rougher.calculation.sulfate_to_au_concentrate       14148 non-null  float64\n",
      " 31  rougher.calculation.floatbank10_sulfate_to_au_feed  14148 non-null  float64\n",
      " 32  rougher.calculation.floatbank11_sulfate_to_au_feed  14148 non-null  float64\n",
      " 33  rougher.calculation.au_pb_ratio                     14149 non-null  float64\n",
      " 34  rougher.input.feed_ag                               14149 non-null  float64\n",
      " 35  rougher.input.feed_pb                               14049 non-null  float64\n",
      " 36  rougher.input.feed_rate                             14141 non-null  float64\n",
      " 37  rougher.input.feed_size                             14005 non-null  float64\n",
      " 38  rougher.input.feed_sol                              14071 non-null  float64\n",
      " 39  rougher.input.feed_au                               14149 non-null  float64\n",
      " 40  rougher.input.floatbank10_sulfate                   14120 non-null  float64\n",
      " 41  rougher.input.floatbank10_xanthate                  14141 non-null  float64\n",
      " 42  rougher.input.floatbank11_sulfate                   14113 non-null  float64\n",
      " 43  rougher.input.floatbank11_xanthate                  13721 non-null  float64\n",
      " 44  rougher.output.concentrate_ag                       14149 non-null  float64\n",
      " 45  rougher.output.concentrate_pb                       14149 non-null  float64\n",
      " 46  rougher.output.concentrate_sol                      14127 non-null  float64\n",
      " 47  rougher.output.concentrate_au                       14149 non-null  float64\n",
      " 48  rougher.output.recovery                             14149 non-null  float64\n",
      " 49  rougher.output.tail_ag                              14148 non-null  float64\n",
      " 50  rougher.output.tail_pb                              14149 non-null  float64\n",
      " 51  rougher.output.tail_sol                             14149 non-null  float64\n",
      " 52  rougher.output.tail_au                              14149 non-null  float64\n",
      " 53  rougher.state.floatbank10_a_air                     14148 non-null  float64\n",
      " 54  rougher.state.floatbank10_a_level                   14148 non-null  float64\n",
      " 55  rougher.state.floatbank10_b_air                     14148 non-null  float64\n",
      " 56  rougher.state.floatbank10_b_level                   14148 non-null  float64\n",
      " 57  rougher.state.floatbank10_c_air                     14148 non-null  float64\n",
      " 58  rougher.state.floatbank10_c_level                   14148 non-null  float64\n",
      " 59  rougher.state.floatbank10_d_air                     14149 non-null  float64\n",
      " 60  rougher.state.floatbank10_d_level                   14149 non-null  float64\n",
      " 61  rougher.state.floatbank10_e_air                     13713 non-null  float64\n",
      " 62  rougher.state.floatbank10_e_level                   14149 non-null  float64\n",
      " 63  rougher.state.floatbank10_f_air                     14149 non-null  float64\n",
      " 64  rougher.state.floatbank10_f_level                   14149 non-null  float64\n",
      " 65  secondary_cleaner.output.tail_ag                    14147 non-null  float64\n",
      " 66  secondary_cleaner.output.tail_pb                    14139 non-null  float64\n",
      " 67  secondary_cleaner.output.tail_sol                   12544 non-null  float64\n",
      " 68  secondary_cleaner.output.tail_au                    14149 non-null  float64\n",
      " 69  secondary_cleaner.state.floatbank2_a_air            13932 non-null  float64\n",
      " 70  secondary_cleaner.state.floatbank2_a_level          14148 non-null  float64\n",
      " 71  secondary_cleaner.state.floatbank2_b_air            14128 non-null  float64\n",
      " 72  secondary_cleaner.state.floatbank2_b_level          14148 non-null  float64\n",
      " 73  secondary_cleaner.state.floatbank3_a_air            14145 non-null  float64\n",
      " 74  secondary_cleaner.state.floatbank3_a_level          14148 non-null  float64\n",
      " 75  secondary_cleaner.state.floatbank3_b_air            14148 non-null  float64\n",
      " 76  secondary_cleaner.state.floatbank3_b_level          14148 non-null  float64\n",
      " 77  secondary_cleaner.state.floatbank4_a_air            14143 non-null  float64\n",
      " 78  secondary_cleaner.state.floatbank4_a_level          14148 non-null  float64\n",
      " 79  secondary_cleaner.state.floatbank4_b_air            14148 non-null  float64\n",
      " 80  secondary_cleaner.state.floatbank4_b_level          14148 non-null  float64\n",
      " 81  secondary_cleaner.state.floatbank5_a_air            14148 non-null  float64\n",
      " 82  secondary_cleaner.state.floatbank5_a_level          14148 non-null  float64\n",
      " 83  secondary_cleaner.state.floatbank5_b_air            14148 non-null  float64\n",
      " 84  secondary_cleaner.state.floatbank5_b_level          14148 non-null  float64\n",
      " 85  secondary_cleaner.state.floatbank6_a_air            14147 non-null  float64\n",
      " 86  secondary_cleaner.state.floatbank6_a_level          14148 non-null  float64\n",
      "dtypes: float64(86), object(1)\n",
      "memory usage: 9.4+ MB\n"
     ]
    }
   ],
   "source": [
    "# посмотрим содержание тренировочной таблицы\n",
    "data_train.info()"
   ]
  },
  {
   "cell_type": "code",
   "execution_count": 5,
   "metadata": {},
   "outputs": [
    {
     "name": "stdout",
     "output_type": "stream",
     "text": [
      "<class 'pandas.core.frame.DataFrame'>\n",
      "RangeIndex: 5290 entries, 0 to 5289\n",
      "Data columns (total 53 columns):\n",
      " #   Column                                      Non-Null Count  Dtype  \n",
      "---  ------                                      --------------  -----  \n",
      " 0   date                                        5290 non-null   object \n",
      " 1   primary_cleaner.input.sulfate               5286 non-null   float64\n",
      " 2   primary_cleaner.input.depressant            5285 non-null   float64\n",
      " 3   primary_cleaner.input.feed_size             5290 non-null   float64\n",
      " 4   primary_cleaner.input.xanthate              5286 non-null   float64\n",
      " 5   primary_cleaner.state.floatbank8_a_air      5290 non-null   float64\n",
      " 6   primary_cleaner.state.floatbank8_a_level    5290 non-null   float64\n",
      " 7   primary_cleaner.state.floatbank8_b_air      5290 non-null   float64\n",
      " 8   primary_cleaner.state.floatbank8_b_level    5290 non-null   float64\n",
      " 9   primary_cleaner.state.floatbank8_c_air      5290 non-null   float64\n",
      " 10  primary_cleaner.state.floatbank8_c_level    5290 non-null   float64\n",
      " 11  primary_cleaner.state.floatbank8_d_air      5290 non-null   float64\n",
      " 12  primary_cleaner.state.floatbank8_d_level    5290 non-null   float64\n",
      " 13  rougher.input.feed_ag                       5290 non-null   float64\n",
      " 14  rougher.input.feed_pb                       5290 non-null   float64\n",
      " 15  rougher.input.feed_rate                     5287 non-null   float64\n",
      " 16  rougher.input.feed_size                     5289 non-null   float64\n",
      " 17  rougher.input.feed_sol                      5269 non-null   float64\n",
      " 18  rougher.input.feed_au                       5290 non-null   float64\n",
      " 19  rougher.input.floatbank10_sulfate           5285 non-null   float64\n",
      " 20  rougher.input.floatbank10_xanthate          5290 non-null   float64\n",
      " 21  rougher.input.floatbank11_sulfate           5282 non-null   float64\n",
      " 22  rougher.input.floatbank11_xanthate          5265 non-null   float64\n",
      " 23  rougher.state.floatbank10_a_air             5290 non-null   float64\n",
      " 24  rougher.state.floatbank10_a_level           5290 non-null   float64\n",
      " 25  rougher.state.floatbank10_b_air             5290 non-null   float64\n",
      " 26  rougher.state.floatbank10_b_level           5290 non-null   float64\n",
      " 27  rougher.state.floatbank10_c_air             5290 non-null   float64\n",
      " 28  rougher.state.floatbank10_c_level           5290 non-null   float64\n",
      " 29  rougher.state.floatbank10_d_air             5290 non-null   float64\n",
      " 30  rougher.state.floatbank10_d_level           5290 non-null   float64\n",
      " 31  rougher.state.floatbank10_e_air             5290 non-null   float64\n",
      " 32  rougher.state.floatbank10_e_level           5290 non-null   float64\n",
      " 33  rougher.state.floatbank10_f_air             5290 non-null   float64\n",
      " 34  rougher.state.floatbank10_f_level           5290 non-null   float64\n",
      " 35  secondary_cleaner.state.floatbank2_a_air    5287 non-null   float64\n",
      " 36  secondary_cleaner.state.floatbank2_a_level  5290 non-null   float64\n",
      " 37  secondary_cleaner.state.floatbank2_b_air    5288 non-null   float64\n",
      " 38  secondary_cleaner.state.floatbank2_b_level  5290 non-null   float64\n",
      " 39  secondary_cleaner.state.floatbank3_a_air    5281 non-null   float64\n",
      " 40  secondary_cleaner.state.floatbank3_a_level  5290 non-null   float64\n",
      " 41  secondary_cleaner.state.floatbank3_b_air    5290 non-null   float64\n",
      " 42  secondary_cleaner.state.floatbank3_b_level  5290 non-null   float64\n",
      " 43  secondary_cleaner.state.floatbank4_a_air    5290 non-null   float64\n",
      " 44  secondary_cleaner.state.floatbank4_a_level  5290 non-null   float64\n",
      " 45  secondary_cleaner.state.floatbank4_b_air    5290 non-null   float64\n",
      " 46  secondary_cleaner.state.floatbank4_b_level  5290 non-null   float64\n",
      " 47  secondary_cleaner.state.floatbank5_a_air    5290 non-null   float64\n",
      " 48  secondary_cleaner.state.floatbank5_a_level  5290 non-null   float64\n",
      " 49  secondary_cleaner.state.floatbank5_b_air    5290 non-null   float64\n",
      " 50  secondary_cleaner.state.floatbank5_b_level  5290 non-null   float64\n",
      " 51  secondary_cleaner.state.floatbank6_a_air    5290 non-null   float64\n",
      " 52  secondary_cleaner.state.floatbank6_a_level  5290 non-null   float64\n",
      "dtypes: float64(52), object(1)\n",
      "memory usage: 2.1+ MB\n"
     ]
    }
   ],
   "source": [
    "# посмотрим содержание тестовой таблицы\n",
    "data_test.info()"
   ]
  },
  {
   "cell_type": "code",
   "execution_count": 6,
   "metadata": {},
   "outputs": [
    {
     "name": "stdout",
     "output_type": "stream",
     "text": [
      "<class 'pandas.core.frame.DataFrame'>\n",
      "RangeIndex: 19439 entries, 0 to 19438\n",
      "Data columns (total 87 columns):\n",
      " #   Column                                              Non-Null Count  Dtype  \n",
      "---  ------                                              --------------  -----  \n",
      " 0   date                                                19439 non-null  object \n",
      " 1   final.output.concentrate_ag                         19438 non-null  float64\n",
      " 2   final.output.concentrate_pb                         19438 non-null  float64\n",
      " 3   final.output.concentrate_sol                        19228 non-null  float64\n",
      " 4   final.output.concentrate_au                         19439 non-null  float64\n",
      " 5   final.output.recovery                               19439 non-null  float64\n",
      " 6   final.output.tail_ag                                19438 non-null  float64\n",
      " 7   final.output.tail_pb                                19338 non-null  float64\n",
      " 8   final.output.tail_sol                               19433 non-null  float64\n",
      " 9   final.output.tail_au                                19439 non-null  float64\n",
      " 10  primary_cleaner.input.sulfate                       19415 non-null  float64\n",
      " 11  primary_cleaner.input.depressant                    19402 non-null  float64\n",
      " 12  primary_cleaner.input.feed_size                     19439 non-null  float64\n",
      " 13  primary_cleaner.input.xanthate                      19335 non-null  float64\n",
      " 14  primary_cleaner.output.concentrate_ag               19439 non-null  float64\n",
      " 15  primary_cleaner.output.concentrate_pb               19323 non-null  float64\n",
      " 16  primary_cleaner.output.concentrate_sol              19069 non-null  float64\n",
      " 17  primary_cleaner.output.concentrate_au               19439 non-null  float64\n",
      " 18  primary_cleaner.output.tail_ag                      19435 non-null  float64\n",
      " 19  primary_cleaner.output.tail_pb                      19418 non-null  float64\n",
      " 20  primary_cleaner.output.tail_sol                     19377 non-null  float64\n",
      " 21  primary_cleaner.output.tail_au                      19439 non-null  float64\n",
      " 22  primary_cleaner.state.floatbank8_a_air              19435 non-null  float64\n",
      " 23  primary_cleaner.state.floatbank8_a_level            19438 non-null  float64\n",
      " 24  primary_cleaner.state.floatbank8_b_air              19435 non-null  float64\n",
      " 25  primary_cleaner.state.floatbank8_b_level            19438 non-null  float64\n",
      " 26  primary_cleaner.state.floatbank8_c_air              19437 non-null  float64\n",
      " 27  primary_cleaner.state.floatbank8_c_level            19438 non-null  float64\n",
      " 28  primary_cleaner.state.floatbank8_d_air              19436 non-null  float64\n",
      " 29  primary_cleaner.state.floatbank8_d_level            19438 non-null  float64\n",
      " 30  rougher.calculation.sulfate_to_au_concentrate       19437 non-null  float64\n",
      " 31  rougher.calculation.floatbank10_sulfate_to_au_feed  19437 non-null  float64\n",
      " 32  rougher.calculation.floatbank11_sulfate_to_au_feed  19437 non-null  float64\n",
      " 33  rougher.calculation.au_pb_ratio                     19439 non-null  float64\n",
      " 34  rougher.input.feed_ag                               19439 non-null  float64\n",
      " 35  rougher.input.feed_pb                               19339 non-null  float64\n",
      " 36  rougher.input.feed_rate                             19428 non-null  float64\n",
      " 37  rougher.input.feed_size                             19294 non-null  float64\n",
      " 38  rougher.input.feed_sol                              19340 non-null  float64\n",
      " 39  rougher.input.feed_au                               19439 non-null  float64\n",
      " 40  rougher.input.floatbank10_sulfate                   19405 non-null  float64\n",
      " 41  rougher.input.floatbank10_xanthate                  19431 non-null  float64\n",
      " 42  rougher.input.floatbank11_sulfate                   19395 non-null  float64\n",
      " 43  rougher.input.floatbank11_xanthate                  18986 non-null  float64\n",
      " 44  rougher.output.concentrate_ag                       19439 non-null  float64\n",
      " 45  rougher.output.concentrate_pb                       19439 non-null  float64\n",
      " 46  rougher.output.concentrate_sol                      19416 non-null  float64\n",
      " 47  rougher.output.concentrate_au                       19439 non-null  float64\n",
      " 48  rougher.output.recovery                             19439 non-null  float64\n",
      " 49  rougher.output.tail_ag                              19438 non-null  float64\n",
      " 50  rougher.output.tail_pb                              19439 non-null  float64\n",
      " 51  rougher.output.tail_sol                             19439 non-null  float64\n",
      " 52  rougher.output.tail_au                              19439 non-null  float64\n",
      " 53  rougher.state.floatbank10_a_air                     19438 non-null  float64\n",
      " 54  rougher.state.floatbank10_a_level                   19438 non-null  float64\n",
      " 55  rougher.state.floatbank10_b_air                     19438 non-null  float64\n",
      " 56  rougher.state.floatbank10_b_level                   19438 non-null  float64\n",
      " 57  rougher.state.floatbank10_c_air                     19438 non-null  float64\n",
      " 58  rougher.state.floatbank10_c_level                   19438 non-null  float64\n",
      " 59  rougher.state.floatbank10_d_air                     19439 non-null  float64\n",
      " 60  rougher.state.floatbank10_d_level                   19439 non-null  float64\n",
      " 61  rougher.state.floatbank10_e_air                     19003 non-null  float64\n",
      " 62  rougher.state.floatbank10_e_level                   19439 non-null  float64\n",
      " 63  rougher.state.floatbank10_f_air                     19439 non-null  float64\n",
      " 64  rougher.state.floatbank10_f_level                   19439 non-null  float64\n",
      " 65  secondary_cleaner.output.tail_ag                    19437 non-null  float64\n",
      " 66  secondary_cleaner.output.tail_pb                    19427 non-null  float64\n",
      " 67  secondary_cleaner.output.tail_sol                   17691 non-null  float64\n",
      " 68  secondary_cleaner.output.tail_au                    19439 non-null  float64\n",
      " 69  secondary_cleaner.state.floatbank2_a_air            19219 non-null  float64\n",
      " 70  secondary_cleaner.state.floatbank2_a_level          19438 non-null  float64\n",
      " 71  secondary_cleaner.state.floatbank2_b_air            19416 non-null  float64\n",
      " 72  secondary_cleaner.state.floatbank2_b_level          19438 non-null  float64\n",
      " 73  secondary_cleaner.state.floatbank3_a_air            19426 non-null  float64\n",
      " 74  secondary_cleaner.state.floatbank3_a_level          19438 non-null  float64\n",
      " 75  secondary_cleaner.state.floatbank3_b_air            19438 non-null  float64\n",
      " 76  secondary_cleaner.state.floatbank3_b_level          19438 non-null  float64\n",
      " 77  secondary_cleaner.state.floatbank4_a_air            19433 non-null  float64\n",
      " 78  secondary_cleaner.state.floatbank4_a_level          19438 non-null  float64\n",
      " 79  secondary_cleaner.state.floatbank4_b_air            19438 non-null  float64\n",
      " 80  secondary_cleaner.state.floatbank4_b_level          19438 non-null  float64\n",
      " 81  secondary_cleaner.state.floatbank5_a_air            19438 non-null  float64\n",
      " 82  secondary_cleaner.state.floatbank5_a_level          19438 non-null  float64\n",
      " 83  secondary_cleaner.state.floatbank5_b_air            19438 non-null  float64\n",
      " 84  secondary_cleaner.state.floatbank5_b_level          19438 non-null  float64\n",
      " 85  secondary_cleaner.state.floatbank6_a_air            19437 non-null  float64\n",
      " 86  secondary_cleaner.state.floatbank6_a_level          19438 non-null  float64\n",
      "dtypes: float64(86), object(1)\n",
      "memory usage: 12.9+ MB\n"
     ]
    }
   ],
   "source": [
    "# посмотрим содержание общей таблицы\n",
    "data_full.info()"
   ]
  },
  {
   "cell_type": "markdown",
   "metadata": {},
   "source": [
    "## Проверка на дубликаты"
   ]
  },
  {
   "cell_type": "code",
   "execution_count": 7,
   "metadata": {},
   "outputs": [
    {
     "name": "stdout",
     "output_type": "stream",
     "text": [
      "Количество дубликатов в таблице data_train: 0\n",
      "Количество дубликатов в таблице data_test: 0\n",
      "Количество дубликатов в таблице data_full: 0\n"
     ]
    }
   ],
   "source": [
    "# Проверим датасеты на наличие явных дубликатов\n",
    "\n",
    "print(\"Количество дубликатов в таблице data_train:\", data_train.duplicated().sum())\n",
    "print(\"Количество дубликатов в таблице data_test:\", data_test.duplicated().sum())\n",
    "print(\"Количество дубликатов в таблице data_full:\", data_full.duplicated().sum())"
   ]
  },
  {
   "cell_type": "markdown",
   "metadata": {},
   "source": [
    "## Предварительный анализ полученных данных\n",
    "\n",
    " - Данные содержат пропуски, но пустых столбцов нет,\n",
    " - Все цифровые поля имеют формат float,\n",
    " - Столбец с датой сохранен в формате object, необходимо заменить на формат даты,\n",
    " - В тестовой таблице отсутсвуют целевые поля со значением final, видимо это сделано чтобы избежать проблемы \"заглядывания в будущее\", чтобы модель при обучении не получила готовые результаты,\n",
    " - Явных дубликатов в таблицах не обнаружено."
   ]
  },
  {
   "cell_type": "code",
   "execution_count": 8,
   "metadata": {},
   "outputs": [
    {
     "name": "stdout",
     "output_type": "stream",
     "text": [
      "data_train['date'] -  datetime64[ns]\n",
      "data_test['date'] -  datetime64[ns]\n",
      "data_full['date'] -  datetime64[ns]\n"
     ]
    }
   ],
   "source": [
    "# заменим формат даты во всех таблицах\n",
    "data_train['date'] = pd.to_datetime(data_train['date'], format='%Y-%m-%d %H:%M:%S')\n",
    "data_test['date'] = pd.to_datetime(data_test['date'], format='%Y-%m-%d %H:%M:%S')\n",
    "data_full['date'] = pd.to_datetime(data_full['date'], format='%Y-%m-%d %H:%M:%S')\n",
    "# проверим работу кода\n",
    "print(\"data_train['date'] - \", data_train['date'].dtypes)\n",
    "print(\"data_test['date'] - \", data_test['date'].dtypes)\n",
    "print(\"data_full['date'] - \", data_full['date'].dtypes)"
   ]
  },
  {
   "cell_type": "markdown",
   "metadata": {},
   "source": [
    "## Обработка пропусков"
   ]
  },
  {
   "cell_type": "markdown",
   "metadata": {},
   "source": [
    "В прошлом проекте по оттоку клиентов ревьюер рекомендовал убирать пропуски при помощи random.choices или модуля KNNImputer. Рандом хорош, если нет выбросов, поэтому попробуем это сделать через KNNImputer - условный расчет для заполнения недостающих значений с помощью к-ближайших соседей:\n",
    "\n",
    "    Отсутствующие значения каждого образца условно рассчитываются с использованием среднего значения от n_соседи ближайших соседей, найденных в тренировочном наборе. Два образца близки, если признаки, которые отсутствуют, близки (из документации)."
   ]
  },
  {
   "cell_type": "code",
   "execution_count": 9,
   "metadata": {},
   "outputs": [],
   "source": [
    "# уберем пропуски в обучающем датасете\n",
    "imputer = KNNImputer(n_neighbors=2)\n",
    "# сначала уберем столбец с датой, чтобы не было ошибки при работе с нечисловыми данными\n",
    "data_train_date = data_train[['date']]\n",
    "data_train.drop([\"date\"], axis=1, inplace=True)\n",
    "data_train = pd.DataFrame(imputer.fit_transform(data_train),columns = data_train.columns)\n",
    "# приклеим обратно столбец с датой к обработанной таблице\n",
    "data_train['date'] = data_train_date"
   ]
  },
  {
   "cell_type": "code",
   "execution_count": 10,
   "metadata": {},
   "outputs": [
    {
     "name": "stdout",
     "output_type": "stream",
     "text": [
      "<class 'pandas.core.frame.DataFrame'>\n",
      "RangeIndex: 14149 entries, 0 to 14148\n",
      "Data columns (total 87 columns):\n",
      " #   Column                                              Non-Null Count  Dtype         \n",
      "---  ------                                              --------------  -----         \n",
      " 0   final.output.concentrate_ag                         14149 non-null  float64       \n",
      " 1   final.output.concentrate_pb                         14149 non-null  float64       \n",
      " 2   final.output.concentrate_sol                        14149 non-null  float64       \n",
      " 3   final.output.concentrate_au                         14149 non-null  float64       \n",
      " 4   final.output.recovery                               14149 non-null  float64       \n",
      " 5   final.output.tail_ag                                14149 non-null  float64       \n",
      " 6   final.output.tail_pb                                14149 non-null  float64       \n",
      " 7   final.output.tail_sol                               14149 non-null  float64       \n",
      " 8   final.output.tail_au                                14149 non-null  float64       \n",
      " 9   primary_cleaner.input.sulfate                       14149 non-null  float64       \n",
      " 10  primary_cleaner.input.depressant                    14149 non-null  float64       \n",
      " 11  primary_cleaner.input.feed_size                     14149 non-null  float64       \n",
      " 12  primary_cleaner.input.xanthate                      14149 non-null  float64       \n",
      " 13  primary_cleaner.output.concentrate_ag               14149 non-null  float64       \n",
      " 14  primary_cleaner.output.concentrate_pb               14149 non-null  float64       \n",
      " 15  primary_cleaner.output.concentrate_sol              14149 non-null  float64       \n",
      " 16  primary_cleaner.output.concentrate_au               14149 non-null  float64       \n",
      " 17  primary_cleaner.output.tail_ag                      14149 non-null  float64       \n",
      " 18  primary_cleaner.output.tail_pb                      14149 non-null  float64       \n",
      " 19  primary_cleaner.output.tail_sol                     14149 non-null  float64       \n",
      " 20  primary_cleaner.output.tail_au                      14149 non-null  float64       \n",
      " 21  primary_cleaner.state.floatbank8_a_air              14149 non-null  float64       \n",
      " 22  primary_cleaner.state.floatbank8_a_level            14149 non-null  float64       \n",
      " 23  primary_cleaner.state.floatbank8_b_air              14149 non-null  float64       \n",
      " 24  primary_cleaner.state.floatbank8_b_level            14149 non-null  float64       \n",
      " 25  primary_cleaner.state.floatbank8_c_air              14149 non-null  float64       \n",
      " 26  primary_cleaner.state.floatbank8_c_level            14149 non-null  float64       \n",
      " 27  primary_cleaner.state.floatbank8_d_air              14149 non-null  float64       \n",
      " 28  primary_cleaner.state.floatbank8_d_level            14149 non-null  float64       \n",
      " 29  rougher.calculation.sulfate_to_au_concentrate       14149 non-null  float64       \n",
      " 30  rougher.calculation.floatbank10_sulfate_to_au_feed  14149 non-null  float64       \n",
      " 31  rougher.calculation.floatbank11_sulfate_to_au_feed  14149 non-null  float64       \n",
      " 32  rougher.calculation.au_pb_ratio                     14149 non-null  float64       \n",
      " 33  rougher.input.feed_ag                               14149 non-null  float64       \n",
      " 34  rougher.input.feed_pb                               14149 non-null  float64       \n",
      " 35  rougher.input.feed_rate                             14149 non-null  float64       \n",
      " 36  rougher.input.feed_size                             14149 non-null  float64       \n",
      " 37  rougher.input.feed_sol                              14149 non-null  float64       \n",
      " 38  rougher.input.feed_au                               14149 non-null  float64       \n",
      " 39  rougher.input.floatbank10_sulfate                   14149 non-null  float64       \n",
      " 40  rougher.input.floatbank10_xanthate                  14149 non-null  float64       \n",
      " 41  rougher.input.floatbank11_sulfate                   14149 non-null  float64       \n",
      " 42  rougher.input.floatbank11_xanthate                  14149 non-null  float64       \n",
      " 43  rougher.output.concentrate_ag                       14149 non-null  float64       \n",
      " 44  rougher.output.concentrate_pb                       14149 non-null  float64       \n",
      " 45  rougher.output.concentrate_sol                      14149 non-null  float64       \n",
      " 46  rougher.output.concentrate_au                       14149 non-null  float64       \n",
      " 47  rougher.output.recovery                             14149 non-null  float64       \n",
      " 48  rougher.output.tail_ag                              14149 non-null  float64       \n",
      " 49  rougher.output.tail_pb                              14149 non-null  float64       \n",
      " 50  rougher.output.tail_sol                             14149 non-null  float64       \n",
      " 51  rougher.output.tail_au                              14149 non-null  float64       \n",
      " 52  rougher.state.floatbank10_a_air                     14149 non-null  float64       \n",
      " 53  rougher.state.floatbank10_a_level                   14149 non-null  float64       \n",
      " 54  rougher.state.floatbank10_b_air                     14149 non-null  float64       \n",
      " 55  rougher.state.floatbank10_b_level                   14149 non-null  float64       \n",
      " 56  rougher.state.floatbank10_c_air                     14149 non-null  float64       \n",
      " 57  rougher.state.floatbank10_c_level                   14149 non-null  float64       \n",
      " 58  rougher.state.floatbank10_d_air                     14149 non-null  float64       \n",
      " 59  rougher.state.floatbank10_d_level                   14149 non-null  float64       \n",
      " 60  rougher.state.floatbank10_e_air                     14149 non-null  float64       \n",
      " 61  rougher.state.floatbank10_e_level                   14149 non-null  float64       \n",
      " 62  rougher.state.floatbank10_f_air                     14149 non-null  float64       \n",
      " 63  rougher.state.floatbank10_f_level                   14149 non-null  float64       \n",
      " 64  secondary_cleaner.output.tail_ag                    14149 non-null  float64       \n",
      " 65  secondary_cleaner.output.tail_pb                    14149 non-null  float64       \n",
      " 66  secondary_cleaner.output.tail_sol                   14149 non-null  float64       \n",
      " 67  secondary_cleaner.output.tail_au                    14149 non-null  float64       \n",
      " 68  secondary_cleaner.state.floatbank2_a_air            14149 non-null  float64       \n",
      " 69  secondary_cleaner.state.floatbank2_a_level          14149 non-null  float64       \n",
      " 70  secondary_cleaner.state.floatbank2_b_air            14149 non-null  float64       \n",
      " 71  secondary_cleaner.state.floatbank2_b_level          14149 non-null  float64       \n",
      " 72  secondary_cleaner.state.floatbank3_a_air            14149 non-null  float64       \n",
      " 73  secondary_cleaner.state.floatbank3_a_level          14149 non-null  float64       \n",
      " 74  secondary_cleaner.state.floatbank3_b_air            14149 non-null  float64       \n",
      " 75  secondary_cleaner.state.floatbank3_b_level          14149 non-null  float64       \n",
      " 76  secondary_cleaner.state.floatbank4_a_air            14149 non-null  float64       \n",
      " 77  secondary_cleaner.state.floatbank4_a_level          14149 non-null  float64       \n",
      " 78  secondary_cleaner.state.floatbank4_b_air            14149 non-null  float64       \n",
      " 79  secondary_cleaner.state.floatbank4_b_level          14149 non-null  float64       \n",
      " 80  secondary_cleaner.state.floatbank5_a_air            14149 non-null  float64       \n",
      " 81  secondary_cleaner.state.floatbank5_a_level          14149 non-null  float64       \n",
      " 82  secondary_cleaner.state.floatbank5_b_air            14149 non-null  float64       \n",
      " 83  secondary_cleaner.state.floatbank5_b_level          14149 non-null  float64       \n",
      " 84  secondary_cleaner.state.floatbank6_a_air            14149 non-null  float64       \n",
      " 85  secondary_cleaner.state.floatbank6_a_level          14149 non-null  float64       \n",
      " 86  date                                                14149 non-null  datetime64[ns]\n",
      "dtypes: datetime64[ns](1), float64(86)\n",
      "memory usage: 9.4 MB\n"
     ]
    }
   ],
   "source": [
    "# проверим работу кода\n",
    "data_train.info()"
   ]
  },
  {
   "cell_type": "code",
   "execution_count": 11,
   "metadata": {},
   "outputs": [],
   "source": [
    "# уберем пропуски в тестовом датасете\n",
    "imputer = KNNImputer(n_neighbors=2)\n",
    "# сначала уберем столбец с датой, чтобы не было ошибки при работе с нечисловыми данными\n",
    "data_test_date = data_test[['date']]\n",
    "data_test.drop([\"date\"], axis=1, inplace=True)\n",
    "data_test = pd.DataFrame(imputer.fit_transform(data_test),columns = data_test.columns)\n",
    "# приклеим обратно столбец с датой к обработанной таблице\n",
    "data_test['date'] = data_test_date"
   ]
  },
  {
   "cell_type": "code",
   "execution_count": 12,
   "metadata": {},
   "outputs": [
    {
     "name": "stdout",
     "output_type": "stream",
     "text": [
      "<class 'pandas.core.frame.DataFrame'>\n",
      "RangeIndex: 5290 entries, 0 to 5289\n",
      "Data columns (total 53 columns):\n",
      " #   Column                                      Non-Null Count  Dtype         \n",
      "---  ------                                      --------------  -----         \n",
      " 0   primary_cleaner.input.sulfate               5290 non-null   float64       \n",
      " 1   primary_cleaner.input.depressant            5290 non-null   float64       \n",
      " 2   primary_cleaner.input.feed_size             5290 non-null   float64       \n",
      " 3   primary_cleaner.input.xanthate              5290 non-null   float64       \n",
      " 4   primary_cleaner.state.floatbank8_a_air      5290 non-null   float64       \n",
      " 5   primary_cleaner.state.floatbank8_a_level    5290 non-null   float64       \n",
      " 6   primary_cleaner.state.floatbank8_b_air      5290 non-null   float64       \n",
      " 7   primary_cleaner.state.floatbank8_b_level    5290 non-null   float64       \n",
      " 8   primary_cleaner.state.floatbank8_c_air      5290 non-null   float64       \n",
      " 9   primary_cleaner.state.floatbank8_c_level    5290 non-null   float64       \n",
      " 10  primary_cleaner.state.floatbank8_d_air      5290 non-null   float64       \n",
      " 11  primary_cleaner.state.floatbank8_d_level    5290 non-null   float64       \n",
      " 12  rougher.input.feed_ag                       5290 non-null   float64       \n",
      " 13  rougher.input.feed_pb                       5290 non-null   float64       \n",
      " 14  rougher.input.feed_rate                     5290 non-null   float64       \n",
      " 15  rougher.input.feed_size                     5290 non-null   float64       \n",
      " 16  rougher.input.feed_sol                      5290 non-null   float64       \n",
      " 17  rougher.input.feed_au                       5290 non-null   float64       \n",
      " 18  rougher.input.floatbank10_sulfate           5290 non-null   float64       \n",
      " 19  rougher.input.floatbank10_xanthate          5290 non-null   float64       \n",
      " 20  rougher.input.floatbank11_sulfate           5290 non-null   float64       \n",
      " 21  rougher.input.floatbank11_xanthate          5290 non-null   float64       \n",
      " 22  rougher.state.floatbank10_a_air             5290 non-null   float64       \n",
      " 23  rougher.state.floatbank10_a_level           5290 non-null   float64       \n",
      " 24  rougher.state.floatbank10_b_air             5290 non-null   float64       \n",
      " 25  rougher.state.floatbank10_b_level           5290 non-null   float64       \n",
      " 26  rougher.state.floatbank10_c_air             5290 non-null   float64       \n",
      " 27  rougher.state.floatbank10_c_level           5290 non-null   float64       \n",
      " 28  rougher.state.floatbank10_d_air             5290 non-null   float64       \n",
      " 29  rougher.state.floatbank10_d_level           5290 non-null   float64       \n",
      " 30  rougher.state.floatbank10_e_air             5290 non-null   float64       \n",
      " 31  rougher.state.floatbank10_e_level           5290 non-null   float64       \n",
      " 32  rougher.state.floatbank10_f_air             5290 non-null   float64       \n",
      " 33  rougher.state.floatbank10_f_level           5290 non-null   float64       \n",
      " 34  secondary_cleaner.state.floatbank2_a_air    5290 non-null   float64       \n",
      " 35  secondary_cleaner.state.floatbank2_a_level  5290 non-null   float64       \n",
      " 36  secondary_cleaner.state.floatbank2_b_air    5290 non-null   float64       \n",
      " 37  secondary_cleaner.state.floatbank2_b_level  5290 non-null   float64       \n",
      " 38  secondary_cleaner.state.floatbank3_a_air    5290 non-null   float64       \n",
      " 39  secondary_cleaner.state.floatbank3_a_level  5290 non-null   float64       \n",
      " 40  secondary_cleaner.state.floatbank3_b_air    5290 non-null   float64       \n",
      " 41  secondary_cleaner.state.floatbank3_b_level  5290 non-null   float64       \n",
      " 42  secondary_cleaner.state.floatbank4_a_air    5290 non-null   float64       \n",
      " 43  secondary_cleaner.state.floatbank4_a_level  5290 non-null   float64       \n",
      " 44  secondary_cleaner.state.floatbank4_b_air    5290 non-null   float64       \n",
      " 45  secondary_cleaner.state.floatbank4_b_level  5290 non-null   float64       \n",
      " 46  secondary_cleaner.state.floatbank5_a_air    5290 non-null   float64       \n",
      " 47  secondary_cleaner.state.floatbank5_a_level  5290 non-null   float64       \n",
      " 48  secondary_cleaner.state.floatbank5_b_air    5290 non-null   float64       \n",
      " 49  secondary_cleaner.state.floatbank5_b_level  5290 non-null   float64       \n",
      " 50  secondary_cleaner.state.floatbank6_a_air    5290 non-null   float64       \n",
      " 51  secondary_cleaner.state.floatbank6_a_level  5290 non-null   float64       \n",
      " 52  date                                        5290 non-null   datetime64[ns]\n",
      "dtypes: datetime64[ns](1), float64(52)\n",
      "memory usage: 2.1 MB\n"
     ]
    }
   ],
   "source": [
    "# проверим работу кода\n",
    "data_test.info()"
   ]
  },
  {
   "cell_type": "code",
   "execution_count": 13,
   "metadata": {},
   "outputs": [],
   "source": [
    "# уберем пропуски в общем датасете\n",
    "imputer = KNNImputer(n_neighbors=2)\n",
    "# сначала уберем столбец с датой, чтобы не было ошибки при работе с нечисловыми данными\n",
    "data_full_date = data_full[['date']]\n",
    "data_full.drop([\"date\"], axis=1, inplace=True)\n",
    "data_full = pd.DataFrame(imputer.fit_transform(data_full),columns = data_full.columns)\n",
    "# приклеим обратно столбец с датой к обработанной таблице\n",
    "data_full['date'] = data_full_date"
   ]
  },
  {
   "cell_type": "code",
   "execution_count": 14,
   "metadata": {},
   "outputs": [
    {
     "name": "stdout",
     "output_type": "stream",
     "text": [
      "<class 'pandas.core.frame.DataFrame'>\n",
      "RangeIndex: 19439 entries, 0 to 19438\n",
      "Data columns (total 87 columns):\n",
      " #   Column                                              Non-Null Count  Dtype         \n",
      "---  ------                                              --------------  -----         \n",
      " 0   final.output.concentrate_ag                         19439 non-null  float64       \n",
      " 1   final.output.concentrate_pb                         19439 non-null  float64       \n",
      " 2   final.output.concentrate_sol                        19439 non-null  float64       \n",
      " 3   final.output.concentrate_au                         19439 non-null  float64       \n",
      " 4   final.output.recovery                               19439 non-null  float64       \n",
      " 5   final.output.tail_ag                                19439 non-null  float64       \n",
      " 6   final.output.tail_pb                                19439 non-null  float64       \n",
      " 7   final.output.tail_sol                               19439 non-null  float64       \n",
      " 8   final.output.tail_au                                19439 non-null  float64       \n",
      " 9   primary_cleaner.input.sulfate                       19439 non-null  float64       \n",
      " 10  primary_cleaner.input.depressant                    19439 non-null  float64       \n",
      " 11  primary_cleaner.input.feed_size                     19439 non-null  float64       \n",
      " 12  primary_cleaner.input.xanthate                      19439 non-null  float64       \n",
      " 13  primary_cleaner.output.concentrate_ag               19439 non-null  float64       \n",
      " 14  primary_cleaner.output.concentrate_pb               19439 non-null  float64       \n",
      " 15  primary_cleaner.output.concentrate_sol              19439 non-null  float64       \n",
      " 16  primary_cleaner.output.concentrate_au               19439 non-null  float64       \n",
      " 17  primary_cleaner.output.tail_ag                      19439 non-null  float64       \n",
      " 18  primary_cleaner.output.tail_pb                      19439 non-null  float64       \n",
      " 19  primary_cleaner.output.tail_sol                     19439 non-null  float64       \n",
      " 20  primary_cleaner.output.tail_au                      19439 non-null  float64       \n",
      " 21  primary_cleaner.state.floatbank8_a_air              19439 non-null  float64       \n",
      " 22  primary_cleaner.state.floatbank8_a_level            19439 non-null  float64       \n",
      " 23  primary_cleaner.state.floatbank8_b_air              19439 non-null  float64       \n",
      " 24  primary_cleaner.state.floatbank8_b_level            19439 non-null  float64       \n",
      " 25  primary_cleaner.state.floatbank8_c_air              19439 non-null  float64       \n",
      " 26  primary_cleaner.state.floatbank8_c_level            19439 non-null  float64       \n",
      " 27  primary_cleaner.state.floatbank8_d_air              19439 non-null  float64       \n",
      " 28  primary_cleaner.state.floatbank8_d_level            19439 non-null  float64       \n",
      " 29  rougher.calculation.sulfate_to_au_concentrate       19439 non-null  float64       \n",
      " 30  rougher.calculation.floatbank10_sulfate_to_au_feed  19439 non-null  float64       \n",
      " 31  rougher.calculation.floatbank11_sulfate_to_au_feed  19439 non-null  float64       \n",
      " 32  rougher.calculation.au_pb_ratio                     19439 non-null  float64       \n",
      " 33  rougher.input.feed_ag                               19439 non-null  float64       \n",
      " 34  rougher.input.feed_pb                               19439 non-null  float64       \n",
      " 35  rougher.input.feed_rate                             19439 non-null  float64       \n",
      " 36  rougher.input.feed_size                             19439 non-null  float64       \n",
      " 37  rougher.input.feed_sol                              19439 non-null  float64       \n",
      " 38  rougher.input.feed_au                               19439 non-null  float64       \n",
      " 39  rougher.input.floatbank10_sulfate                   19439 non-null  float64       \n",
      " 40  rougher.input.floatbank10_xanthate                  19439 non-null  float64       \n",
      " 41  rougher.input.floatbank11_sulfate                   19439 non-null  float64       \n",
      " 42  rougher.input.floatbank11_xanthate                  19439 non-null  float64       \n",
      " 43  rougher.output.concentrate_ag                       19439 non-null  float64       \n",
      " 44  rougher.output.concentrate_pb                       19439 non-null  float64       \n",
      " 45  rougher.output.concentrate_sol                      19439 non-null  float64       \n",
      " 46  rougher.output.concentrate_au                       19439 non-null  float64       \n",
      " 47  rougher.output.recovery                             19439 non-null  float64       \n",
      " 48  rougher.output.tail_ag                              19439 non-null  float64       \n",
      " 49  rougher.output.tail_pb                              19439 non-null  float64       \n",
      " 50  rougher.output.tail_sol                             19439 non-null  float64       \n",
      " 51  rougher.output.tail_au                              19439 non-null  float64       \n",
      " 52  rougher.state.floatbank10_a_air                     19439 non-null  float64       \n",
      " 53  rougher.state.floatbank10_a_level                   19439 non-null  float64       \n",
      " 54  rougher.state.floatbank10_b_air                     19439 non-null  float64       \n",
      " 55  rougher.state.floatbank10_b_level                   19439 non-null  float64       \n",
      " 56  rougher.state.floatbank10_c_air                     19439 non-null  float64       \n",
      " 57  rougher.state.floatbank10_c_level                   19439 non-null  float64       \n",
      " 58  rougher.state.floatbank10_d_air                     19439 non-null  float64       \n",
      " 59  rougher.state.floatbank10_d_level                   19439 non-null  float64       \n",
      " 60  rougher.state.floatbank10_e_air                     19439 non-null  float64       \n",
      " 61  rougher.state.floatbank10_e_level                   19439 non-null  float64       \n",
      " 62  rougher.state.floatbank10_f_air                     19439 non-null  float64       \n",
      " 63  rougher.state.floatbank10_f_level                   19439 non-null  float64       \n",
      " 64  secondary_cleaner.output.tail_ag                    19439 non-null  float64       \n",
      " 65  secondary_cleaner.output.tail_pb                    19439 non-null  float64       \n",
      " 66  secondary_cleaner.output.tail_sol                   19439 non-null  float64       \n",
      " 67  secondary_cleaner.output.tail_au                    19439 non-null  float64       \n",
      " 68  secondary_cleaner.state.floatbank2_a_air            19439 non-null  float64       \n",
      " 69  secondary_cleaner.state.floatbank2_a_level          19439 non-null  float64       \n",
      " 70  secondary_cleaner.state.floatbank2_b_air            19439 non-null  float64       \n",
      " 71  secondary_cleaner.state.floatbank2_b_level          19439 non-null  float64       \n",
      " 72  secondary_cleaner.state.floatbank3_a_air            19439 non-null  float64       \n",
      " 73  secondary_cleaner.state.floatbank3_a_level          19439 non-null  float64       \n",
      " 74  secondary_cleaner.state.floatbank3_b_air            19439 non-null  float64       \n",
      " 75  secondary_cleaner.state.floatbank3_b_level          19439 non-null  float64       \n",
      " 76  secondary_cleaner.state.floatbank4_a_air            19439 non-null  float64       \n",
      " 77  secondary_cleaner.state.floatbank4_a_level          19439 non-null  float64       \n",
      " 78  secondary_cleaner.state.floatbank4_b_air            19439 non-null  float64       \n",
      " 79  secondary_cleaner.state.floatbank4_b_level          19439 non-null  float64       \n",
      " 80  secondary_cleaner.state.floatbank5_a_air            19439 non-null  float64       \n",
      " 81  secondary_cleaner.state.floatbank5_a_level          19439 non-null  float64       \n",
      " 82  secondary_cleaner.state.floatbank5_b_air            19439 non-null  float64       \n",
      " 83  secondary_cleaner.state.floatbank5_b_level          19439 non-null  float64       \n",
      " 84  secondary_cleaner.state.floatbank6_a_air            19439 non-null  float64       \n",
      " 85  secondary_cleaner.state.floatbank6_a_level          19439 non-null  float64       \n",
      " 86  date                                                19439 non-null  datetime64[ns]\n",
      "dtypes: datetime64[ns](1), float64(86)\n",
      "memory usage: 12.9 MB\n"
     ]
    }
   ],
   "source": [
    "# проверим работу кода\n",
    "data_full.info()"
   ]
  },
  {
   "cell_type": "markdown",
   "metadata": {},
   "source": [
    "## Расчёт эффективности\n",
    "\n",
    "Нам нужно смоделировать процесс восстановления золота из золотосодержащей руды. \\\n",
    "Эффективность обогащения рассчитывается по формуле\n",
    "\n",
    "RECOVERY = (C * (F - T)) / (F * (C - T)) * 100\n",
    "\n",
    "где:\n",
    "\n",
    "C — доля золота в концентрате после флотации/очистки (в таблице output.concentrate_au); \\\n",
    "F — доля золота в сырье/концентрате до флотации/очистки (в таблице input.feed_au); \\\n",
    "T — доля золота в отвальных хвостах после флотации/очистки (в таблице output.tail_au).\n",
    "\n",
    "Для прогноза коэффициента нужно найти долю золота в концентратах и хвостах. Причём важен не только финальный продукт, но и черновой концентрат.\n",
    "\n",
    "Проверим, что эффективность обогащения рассчитана правильно. Вычислим её на обучающей выборке для признака rougher.output.recovery. Найдем MAE между нашими расчётами и значением признака."
   ]
  },
  {
   "cell_type": "code",
   "execution_count": 15,
   "metadata": {},
   "outputs": [],
   "source": [
    "# создадим датасеты для работы с формулой\n",
    "C = data_train[\"rougher.output.concentrate_au\"]\n",
    "F = data_train[\"rougher.input.feed_au\"]\n",
    "T = data_train[\"rougher.output.tail_au\"]\n",
    "\n",
    "recovery = ((C*(F-T))/(F*(C-T))) * 100"
   ]
  },
  {
   "cell_type": "markdown",
   "metadata": {},
   "source": [
    "В MAE (Средняя абсолютная ошибка) ошибка рассчитывается как среднее абсолютных разностей между целевыми значениями и прогнозами. MAE - это линейная оценка, которая означает, что все индивидуальные различия взвешены одинаково в среднем."
   ]
  },
  {
   "cell_type": "code",
   "execution_count": 16,
   "metadata": {},
   "outputs": [
    {
     "name": "stdout",
     "output_type": "stream",
     "text": [
      "MAE - 9.73512347450521e-15\n"
     ]
    }
   ],
   "source": [
    "print('MAE -', mean_absolute_error(data_train['rougher.output.recovery'], recovery))"
   ]
  },
  {
   "cell_type": "markdown",
   "metadata": {},
   "source": [
    "Полученное значение MAE крайне мало, что означает ошибки в расчетах нет."
   ]
  },
  {
   "cell_type": "markdown",
   "metadata": {},
   "source": [
    "### Анализ признаков, недоступных в тестовой выборке"
   ]
  },
  {
   "cell_type": "code",
   "execution_count": 17,
   "metadata": {},
   "outputs": [
    {
     "data": {
      "text/plain": [
       "['final.output.concentrate_ag',\n",
       " 'final.output.concentrate_au',\n",
       " 'final.output.concentrate_pb',\n",
       " 'final.output.concentrate_sol',\n",
       " 'final.output.recovery',\n",
       " 'final.output.tail_ag',\n",
       " 'final.output.tail_au',\n",
       " 'final.output.tail_pb',\n",
       " 'final.output.tail_sol',\n",
       " 'primary_cleaner.output.concentrate_ag',\n",
       " 'primary_cleaner.output.concentrate_au',\n",
       " 'primary_cleaner.output.concentrate_pb',\n",
       " 'primary_cleaner.output.concentrate_sol',\n",
       " 'primary_cleaner.output.tail_ag',\n",
       " 'primary_cleaner.output.tail_au',\n",
       " 'primary_cleaner.output.tail_pb',\n",
       " 'primary_cleaner.output.tail_sol',\n",
       " 'rougher.calculation.au_pb_ratio',\n",
       " 'rougher.calculation.floatbank10_sulfate_to_au_feed',\n",
       " 'rougher.calculation.floatbank11_sulfate_to_au_feed',\n",
       " 'rougher.calculation.sulfate_to_au_concentrate',\n",
       " 'rougher.output.concentrate_ag',\n",
       " 'rougher.output.concentrate_au',\n",
       " 'rougher.output.concentrate_pb',\n",
       " 'rougher.output.concentrate_sol',\n",
       " 'rougher.output.recovery',\n",
       " 'rougher.output.tail_ag',\n",
       " 'rougher.output.tail_au',\n",
       " 'rougher.output.tail_pb',\n",
       " 'rougher.output.tail_sol',\n",
       " 'secondary_cleaner.output.tail_ag',\n",
       " 'secondary_cleaner.output.tail_au',\n",
       " 'secondary_cleaner.output.tail_pb',\n",
       " 'secondary_cleaner.output.tail_sol']"
      ]
     },
     "metadata": {},
     "output_type": "display_data"
    }
   ],
   "source": [
    "display(sorted(set(data_train.columns) - set(data_test.columns)))"
   ]
  },
  {
   "cell_type": "markdown",
   "metadata": {},
   "source": [
    "Во всех названиях колонок, которые отсутствуют в тестовой таблице, присутствует слово output (англ. добыча, продукт), то есть с результатами производства после обработки руды.\n",
    "\n",
    "Но для нас являются важными две колонки, которые необходимы в тестовой таблице для построения моделей, а именно целевые столбцы:\n",
    "\n",
    "- rougher.output.recovery \n",
    "- final.output.recovery\n",
    "\n",
    "Добавим их в тестовую таблицу из общей при помощи функции merge, ключом послужит колонки с датой 'date'."
   ]
  },
  {
   "cell_type": "code",
   "execution_count": 18,
   "metadata": {},
   "outputs": [
    {
     "name": "stdout",
     "output_type": "stream",
     "text": [
      "Index(['primary_cleaner.input.sulfate', 'primary_cleaner.input.depressant',\n",
      "       'primary_cleaner.input.feed_size', 'primary_cleaner.input.xanthate',\n",
      "       'primary_cleaner.state.floatbank8_a_air',\n",
      "       'primary_cleaner.state.floatbank8_a_level',\n",
      "       'primary_cleaner.state.floatbank8_b_air',\n",
      "       'primary_cleaner.state.floatbank8_b_level',\n",
      "       'primary_cleaner.state.floatbank8_c_air',\n",
      "       'primary_cleaner.state.floatbank8_c_level',\n",
      "       'primary_cleaner.state.floatbank8_d_air',\n",
      "       'primary_cleaner.state.floatbank8_d_level', 'rougher.input.feed_ag',\n",
      "       'rougher.input.feed_pb', 'rougher.input.feed_rate',\n",
      "       'rougher.input.feed_size', 'rougher.input.feed_sol',\n",
      "       'rougher.input.feed_au', 'rougher.input.floatbank10_sulfate',\n",
      "       'rougher.input.floatbank10_xanthate',\n",
      "       'rougher.input.floatbank11_sulfate',\n",
      "       'rougher.input.floatbank11_xanthate', 'rougher.state.floatbank10_a_air',\n",
      "       'rougher.state.floatbank10_a_level', 'rougher.state.floatbank10_b_air',\n",
      "       'rougher.state.floatbank10_b_level', 'rougher.state.floatbank10_c_air',\n",
      "       'rougher.state.floatbank10_c_level', 'rougher.state.floatbank10_d_air',\n",
      "       'rougher.state.floatbank10_d_level', 'rougher.state.floatbank10_e_air',\n",
      "       'rougher.state.floatbank10_e_level', 'rougher.state.floatbank10_f_air',\n",
      "       'rougher.state.floatbank10_f_level',\n",
      "       'secondary_cleaner.state.floatbank2_a_air',\n",
      "       'secondary_cleaner.state.floatbank2_a_level',\n",
      "       'secondary_cleaner.state.floatbank2_b_air',\n",
      "       'secondary_cleaner.state.floatbank2_b_level',\n",
      "       'secondary_cleaner.state.floatbank3_a_air',\n",
      "       'secondary_cleaner.state.floatbank3_a_level',\n",
      "       'secondary_cleaner.state.floatbank3_b_air',\n",
      "       'secondary_cleaner.state.floatbank3_b_level',\n",
      "       'secondary_cleaner.state.floatbank4_a_air',\n",
      "       'secondary_cleaner.state.floatbank4_a_level',\n",
      "       'secondary_cleaner.state.floatbank4_b_air',\n",
      "       'secondary_cleaner.state.floatbank4_b_level',\n",
      "       'secondary_cleaner.state.floatbank5_a_air',\n",
      "       'secondary_cleaner.state.floatbank5_a_level',\n",
      "       'secondary_cleaner.state.floatbank5_b_air',\n",
      "       'secondary_cleaner.state.floatbank5_b_level',\n",
      "       'secondary_cleaner.state.floatbank6_a_air',\n",
      "       'secondary_cleaner.state.floatbank6_a_level', 'date',\n",
      "       'rougher.output.recovery', 'final.output.recovery'],\n",
      "      dtype='object')\n"
     ]
    }
   ],
   "source": [
    "data_test = data_test.merge(\n",
    "    data_full.loc[:, ['date','rougher.output.recovery','final.output.recovery']], on='date')\n",
    "# проверим работу кода\n",
    "print(data_test.columns)"
   ]
  },
  {
   "cell_type": "markdown",
   "metadata": {},
   "source": [
    "Колонка date является нечисловой и будет мешать при работе моделей, она свою функцию выполнила после добавления целевых столбцов в тестовую таблицу и теперь ее можно удалить."
   ]
  },
  {
   "cell_type": "code",
   "execution_count": 19,
   "metadata": {},
   "outputs": [
    {
     "name": "stdout",
     "output_type": "stream",
     "text": [
      "Index(['final.output.concentrate_ag', 'final.output.concentrate_pb',\n",
      "       'final.output.concentrate_sol', 'final.output.concentrate_au',\n",
      "       'final.output.recovery', 'final.output.tail_ag', 'final.output.tail_pb',\n",
      "       'final.output.tail_sol', 'final.output.tail_au',\n",
      "       'primary_cleaner.input.sulfate', 'primary_cleaner.input.depressant',\n",
      "       'primary_cleaner.input.feed_size', 'primary_cleaner.input.xanthate',\n",
      "       'primary_cleaner.output.concentrate_ag',\n",
      "       'primary_cleaner.output.concentrate_pb',\n",
      "       'primary_cleaner.output.concentrate_sol',\n",
      "       'primary_cleaner.output.concentrate_au',\n",
      "       'primary_cleaner.output.tail_ag', 'primary_cleaner.output.tail_pb',\n",
      "       'primary_cleaner.output.tail_sol', 'primary_cleaner.output.tail_au',\n",
      "       'primary_cleaner.state.floatbank8_a_air',\n",
      "       'primary_cleaner.state.floatbank8_a_level',\n",
      "       'primary_cleaner.state.floatbank8_b_air',\n",
      "       'primary_cleaner.state.floatbank8_b_level',\n",
      "       'primary_cleaner.state.floatbank8_c_air',\n",
      "       'primary_cleaner.state.floatbank8_c_level',\n",
      "       'primary_cleaner.state.floatbank8_d_air',\n",
      "       'primary_cleaner.state.floatbank8_d_level',\n",
      "       'rougher.calculation.sulfate_to_au_concentrate',\n",
      "       'rougher.calculation.floatbank10_sulfate_to_au_feed',\n",
      "       'rougher.calculation.floatbank11_sulfate_to_au_feed',\n",
      "       'rougher.calculation.au_pb_ratio', 'rougher.input.feed_ag',\n",
      "       'rougher.input.feed_pb', 'rougher.input.feed_rate',\n",
      "       'rougher.input.feed_size', 'rougher.input.feed_sol',\n",
      "       'rougher.input.feed_au', 'rougher.input.floatbank10_sulfate',\n",
      "       'rougher.input.floatbank10_xanthate',\n",
      "       'rougher.input.floatbank11_sulfate',\n",
      "       'rougher.input.floatbank11_xanthate', 'rougher.output.concentrate_ag',\n",
      "       'rougher.output.concentrate_pb', 'rougher.output.concentrate_sol',\n",
      "       'rougher.output.concentrate_au', 'rougher.output.recovery',\n",
      "       'rougher.output.tail_ag', 'rougher.output.tail_pb',\n",
      "       'rougher.output.tail_sol', 'rougher.output.tail_au',\n",
      "       'rougher.state.floatbank10_a_air', 'rougher.state.floatbank10_a_level',\n",
      "       'rougher.state.floatbank10_b_air', 'rougher.state.floatbank10_b_level',\n",
      "       'rougher.state.floatbank10_c_air', 'rougher.state.floatbank10_c_level',\n",
      "       'rougher.state.floatbank10_d_air', 'rougher.state.floatbank10_d_level',\n",
      "       'rougher.state.floatbank10_e_air', 'rougher.state.floatbank10_e_level',\n",
      "       'rougher.state.floatbank10_f_air', 'rougher.state.floatbank10_f_level',\n",
      "       'secondary_cleaner.output.tail_ag', 'secondary_cleaner.output.tail_pb',\n",
      "       'secondary_cleaner.output.tail_sol', 'secondary_cleaner.output.tail_au',\n",
      "       'secondary_cleaner.state.floatbank2_a_air',\n",
      "       'secondary_cleaner.state.floatbank2_a_level',\n",
      "       'secondary_cleaner.state.floatbank2_b_air',\n",
      "       'secondary_cleaner.state.floatbank2_b_level',\n",
      "       'secondary_cleaner.state.floatbank3_a_air',\n",
      "       'secondary_cleaner.state.floatbank3_a_level',\n",
      "       'secondary_cleaner.state.floatbank3_b_air',\n",
      "       'secondary_cleaner.state.floatbank3_b_level',\n",
      "       'secondary_cleaner.state.floatbank4_a_air',\n",
      "       'secondary_cleaner.state.floatbank4_a_level',\n",
      "       'secondary_cleaner.state.floatbank4_b_air',\n",
      "       'secondary_cleaner.state.floatbank4_b_level',\n",
      "       'secondary_cleaner.state.floatbank5_a_air',\n",
      "       'secondary_cleaner.state.floatbank5_a_level',\n",
      "       'secondary_cleaner.state.floatbank5_b_air',\n",
      "       'secondary_cleaner.state.floatbank5_b_level',\n",
      "       'secondary_cleaner.state.floatbank6_a_air',\n",
      "       'secondary_cleaner.state.floatbank6_a_level'],\n",
      "      dtype='object')\n",
      "Index(['primary_cleaner.input.sulfate', 'primary_cleaner.input.depressant',\n",
      "       'primary_cleaner.input.feed_size', 'primary_cleaner.input.xanthate',\n",
      "       'primary_cleaner.state.floatbank8_a_air',\n",
      "       'primary_cleaner.state.floatbank8_a_level',\n",
      "       'primary_cleaner.state.floatbank8_b_air',\n",
      "       'primary_cleaner.state.floatbank8_b_level',\n",
      "       'primary_cleaner.state.floatbank8_c_air',\n",
      "       'primary_cleaner.state.floatbank8_c_level',\n",
      "       'primary_cleaner.state.floatbank8_d_air',\n",
      "       'primary_cleaner.state.floatbank8_d_level', 'rougher.input.feed_ag',\n",
      "       'rougher.input.feed_pb', 'rougher.input.feed_rate',\n",
      "       'rougher.input.feed_size', 'rougher.input.feed_sol',\n",
      "       'rougher.input.feed_au', 'rougher.input.floatbank10_sulfate',\n",
      "       'rougher.input.floatbank10_xanthate',\n",
      "       'rougher.input.floatbank11_sulfate',\n",
      "       'rougher.input.floatbank11_xanthate', 'rougher.state.floatbank10_a_air',\n",
      "       'rougher.state.floatbank10_a_level', 'rougher.state.floatbank10_b_air',\n",
      "       'rougher.state.floatbank10_b_level', 'rougher.state.floatbank10_c_air',\n",
      "       'rougher.state.floatbank10_c_level', 'rougher.state.floatbank10_d_air',\n",
      "       'rougher.state.floatbank10_d_level', 'rougher.state.floatbank10_e_air',\n",
      "       'rougher.state.floatbank10_e_level', 'rougher.state.floatbank10_f_air',\n",
      "       'rougher.state.floatbank10_f_level',\n",
      "       'secondary_cleaner.state.floatbank2_a_air',\n",
      "       'secondary_cleaner.state.floatbank2_a_level',\n",
      "       'secondary_cleaner.state.floatbank2_b_air',\n",
      "       'secondary_cleaner.state.floatbank2_b_level',\n",
      "       'secondary_cleaner.state.floatbank3_a_air',\n",
      "       'secondary_cleaner.state.floatbank3_a_level',\n",
      "       'secondary_cleaner.state.floatbank3_b_air',\n",
      "       'secondary_cleaner.state.floatbank3_b_level',\n",
      "       'secondary_cleaner.state.floatbank4_a_air',\n",
      "       'secondary_cleaner.state.floatbank4_a_level',\n",
      "       'secondary_cleaner.state.floatbank4_b_air',\n",
      "       'secondary_cleaner.state.floatbank4_b_level',\n",
      "       'secondary_cleaner.state.floatbank5_a_air',\n",
      "       'secondary_cleaner.state.floatbank5_a_level',\n",
      "       'secondary_cleaner.state.floatbank5_b_air',\n",
      "       'secondary_cleaner.state.floatbank5_b_level',\n",
      "       'secondary_cleaner.state.floatbank6_a_air',\n",
      "       'secondary_cleaner.state.floatbank6_a_level', 'rougher.output.recovery',\n",
      "       'final.output.recovery'],\n",
      "      dtype='object')\n",
      "Index(['final.output.concentrate_ag', 'final.output.concentrate_pb',\n",
      "       'final.output.concentrate_sol', 'final.output.concentrate_au',\n",
      "       'final.output.recovery', 'final.output.tail_ag', 'final.output.tail_pb',\n",
      "       'final.output.tail_sol', 'final.output.tail_au',\n",
      "       'primary_cleaner.input.sulfate', 'primary_cleaner.input.depressant',\n",
      "       'primary_cleaner.input.feed_size', 'primary_cleaner.input.xanthate',\n",
      "       'primary_cleaner.output.concentrate_ag',\n",
      "       'primary_cleaner.output.concentrate_pb',\n",
      "       'primary_cleaner.output.concentrate_sol',\n",
      "       'primary_cleaner.output.concentrate_au',\n",
      "       'primary_cleaner.output.tail_ag', 'primary_cleaner.output.tail_pb',\n",
      "       'primary_cleaner.output.tail_sol', 'primary_cleaner.output.tail_au',\n",
      "       'primary_cleaner.state.floatbank8_a_air',\n",
      "       'primary_cleaner.state.floatbank8_a_level',\n",
      "       'primary_cleaner.state.floatbank8_b_air',\n",
      "       'primary_cleaner.state.floatbank8_b_level',\n",
      "       'primary_cleaner.state.floatbank8_c_air',\n",
      "       'primary_cleaner.state.floatbank8_c_level',\n",
      "       'primary_cleaner.state.floatbank8_d_air',\n",
      "       'primary_cleaner.state.floatbank8_d_level',\n",
      "       'rougher.calculation.sulfate_to_au_concentrate',\n",
      "       'rougher.calculation.floatbank10_sulfate_to_au_feed',\n",
      "       'rougher.calculation.floatbank11_sulfate_to_au_feed',\n",
      "       'rougher.calculation.au_pb_ratio', 'rougher.input.feed_ag',\n",
      "       'rougher.input.feed_pb', 'rougher.input.feed_rate',\n",
      "       'rougher.input.feed_size', 'rougher.input.feed_sol',\n",
      "       'rougher.input.feed_au', 'rougher.input.floatbank10_sulfate',\n",
      "       'rougher.input.floatbank10_xanthate',\n",
      "       'rougher.input.floatbank11_sulfate',\n",
      "       'rougher.input.floatbank11_xanthate', 'rougher.output.concentrate_ag',\n",
      "       'rougher.output.concentrate_pb', 'rougher.output.concentrate_sol',\n",
      "       'rougher.output.concentrate_au', 'rougher.output.recovery',\n",
      "       'rougher.output.tail_ag', 'rougher.output.tail_pb',\n",
      "       'rougher.output.tail_sol', 'rougher.output.tail_au',\n",
      "       'rougher.state.floatbank10_a_air', 'rougher.state.floatbank10_a_level',\n",
      "       'rougher.state.floatbank10_b_air', 'rougher.state.floatbank10_b_level',\n",
      "       'rougher.state.floatbank10_c_air', 'rougher.state.floatbank10_c_level',\n",
      "       'rougher.state.floatbank10_d_air', 'rougher.state.floatbank10_d_level',\n",
      "       'rougher.state.floatbank10_e_air', 'rougher.state.floatbank10_e_level',\n",
      "       'rougher.state.floatbank10_f_air', 'rougher.state.floatbank10_f_level',\n",
      "       'secondary_cleaner.output.tail_ag', 'secondary_cleaner.output.tail_pb',\n",
      "       'secondary_cleaner.output.tail_sol', 'secondary_cleaner.output.tail_au',\n",
      "       'secondary_cleaner.state.floatbank2_a_air',\n",
      "       'secondary_cleaner.state.floatbank2_a_level',\n",
      "       'secondary_cleaner.state.floatbank2_b_air',\n",
      "       'secondary_cleaner.state.floatbank2_b_level',\n",
      "       'secondary_cleaner.state.floatbank3_a_air',\n",
      "       'secondary_cleaner.state.floatbank3_a_level',\n",
      "       'secondary_cleaner.state.floatbank3_b_air',\n",
      "       'secondary_cleaner.state.floatbank3_b_level',\n",
      "       'secondary_cleaner.state.floatbank4_a_air',\n",
      "       'secondary_cleaner.state.floatbank4_a_level',\n",
      "       'secondary_cleaner.state.floatbank4_b_air',\n",
      "       'secondary_cleaner.state.floatbank4_b_level',\n",
      "       'secondary_cleaner.state.floatbank5_a_air',\n",
      "       'secondary_cleaner.state.floatbank5_a_level',\n",
      "       'secondary_cleaner.state.floatbank5_b_air',\n",
      "       'secondary_cleaner.state.floatbank5_b_level',\n",
      "       'secondary_cleaner.state.floatbank6_a_air',\n",
      "       'secondary_cleaner.state.floatbank6_a_level'],\n",
      "      dtype='object')\n"
     ]
    }
   ],
   "source": [
    "data_train = data_train.drop('date', axis=1)\n",
    "data_test = data_test.drop('date', axis=1)\n",
    "data_full = data_full.drop('date', axis=1)\n",
    "\n",
    "# проверим работу кода\n",
    "print(data_train.columns)\n",
    "print(data_test.columns)\n",
    "print(data_full.columns)"
   ]
  },
  {
   "cell_type": "markdown",
   "metadata": {},
   "source": [
    "### Вывод по полученным данным и их обработке\n",
    "\n",
    " - Мы избавились от пропусков методом К-средних ближайших соседей, \n",
    " - Проверили таблицы на дубликаты,\n",
    " - В тестовую таблицу добавили из общей целевые столбцы 'rougher.output.recovery',\n",
    "       'final.output.recovery',\n",
    " - Проверили по формуле recovery и выяснили, что Средняя абсолютная ошибка (MAE) крайне мала.\n",
    "\n",
    " Можно приступать к анализу данных."
   ]
  },
  {
   "cell_type": "markdown",
   "metadata": {},
   "source": [
    "## Анализ данных"
   ]
  },
  {
   "cell_type": "markdown",
   "metadata": {},
   "source": [
    "Посмотрим, как меняется концентрация металлов (Au, Ag, Pb) на различных этапах очистки."
   ]
  },
  {
   "cell_type": "code",
   "execution_count": 20,
   "metadata": {},
   "outputs": [],
   "source": [
    "# Создадим датасеты с концентрацией в руде для каждого вида металла на разных этапах обработки\n",
    "concentration_au = data_full[[\"rougher.input.feed_au\", \"rougher.output.concentrate_au\", \"primary_cleaner.output.concentrate_au\", \"final.output.concentrate_au\"]]\n",
    "concentration_ag = data_full[[\"rougher.input.feed_ag\", \"rougher.output.concentrate_ag\", \"primary_cleaner.output.concentrate_ag\", \"final.output.concentrate_ag\"]]\n",
    "concentration_pb = data_full[[\"rougher.input.feed_pb\", \"rougher.output.concentrate_pb\", \"primary_cleaner.output.concentrate_pb\", \"final.output.concentrate_pb\"]]"
   ]
  },
  {
   "cell_type": "code",
   "execution_count": 21,
   "metadata": {},
   "outputs": [
    {
     "data": {
      "image/png": "[encoded data removed]",
      "text/plain": [
       "<Figure size 1080x1080 with 3 Axes>"
      ]
     },
     "metadata": {
      "needs_background": "light"
     },
     "output_type": "display_data"
    }
   ],
   "source": [
    "position = 0\n",
    "plt.figure(figsize=[15, 15])\n",
    "plt.subplots_adjust(top=0.94, wspace=0.2, hspace=0.3)\n",
    "plt.suptitle('КОНЦЕНТРАЦИЯ МЕТАЛЛОВ НА РАЗЛИЧНЫХ ЭТАПАХ ОЧИСТКИ.', fontsize=10)\n",
    "for metal in ['au', 'ag', 'pb']:\n",
    "    position += 1\n",
    "    plt.subplot(3, 1, position)\n",
    "    plt.title(f'КОНЦЕНТРАЦИЯ МЕТАЛЛА {str(metal).upper()} НА РАЗЛИЧНЫХ ЭТАПАХ ОЧИСТКИ', fontsize=10)\n",
    "    sns.set_style('darkgrid')\n",
    "    sns.histplot(data_full[f'rougher.input.feed_{metal}'], color='black', label='Сырье', kde=False)\n",
    "    sns.histplot(data_full[f'rougher.output.concentrate_{metal}'], color='blue', label='Концентрация после флотации', kde=False)\n",
    "    sns.histplot(data_full[f'primary_cleaner.output.concentrate_{metal}'], color='purple', label='Концентрация после первичной очистки', kde=False)\n",
    "    sns.histplot(data_full[f'final.output.concentrate_{metal}'], color='green', label='Финальная концентрация металла', kde=False)\n",
    "    plt.xlabel('Концентрация металла')\n",
    "    plt.ylabel('Количество наблюдений')\n",
    "    plt.legend()\n",
    "plt.show()\n"
   ]
  },
  {
   "cell_type": "markdown",
   "metadata": {},
   "source": [
    "По получившимся графикам можно заметить, что дисперсия для всех типов металла уменьшается, при этом концентрация золота и свинца увеличивается в этапах к финальной очистке руды, а вот количество серебра наоборот снизилось в финальной стадии."
   ]
  },
  {
   "cell_type": "markdown",
   "metadata": {},
   "source": [
    "### Распределения размеров гранул сырья на обучающей и тестовой выборках"
   ]
  },
  {
   "cell_type": "code",
   "execution_count": 22,
   "metadata": {},
   "outputs": [
    {
     "data": {
      "image/png": "[encoded data removed]",
      "text/plain": [
       "<Figure size 1080x720 with 1 Axes>"
      ]
     },
     "metadata": {},
     "output_type": "display_data"
    }
   ],
   "source": [
    "plt.figure(figsize=(15,10))\n",
    "sns.distplot(data_train['rougher.input.feed_size'])\n",
    "sns.distplot(data_test['rougher.input.feed_size'])\n",
    "plt.title('Размеры гранул в обучающей и тестовой выборках на этапе флотации')\n",
    "plt.legend([\"Обучающий датасет\", \"Тестовый датасет\"])\n",
    "plt.xlabel('Размер гранул')\n",
    "plt.ylabel('Частота')\n",
    "plt.show()"
   ]
  },
  {
   "cell_type": "code",
   "execution_count": 23,
   "metadata": {},
   "outputs": [
    {
     "data": {
      "image/png": "[encoded data removed]",
      "text/plain": [
       "<Figure size 1080x720 with 1 Axes>"
      ]
     },
     "metadata": {},
     "output_type": "display_data"
    }
   ],
   "source": [
    "plt.figure(figsize=(15,10))\n",
    "sns.distplot(data_train['primary_cleaner.input.feed_size'])\n",
    "sns.distplot(data_test['primary_cleaner.input.feed_size'])\n",
    "plt.title('Размеры гранул в обучающей и тестовой выборках при первичной очистке')\n",
    "plt.legend([\"Обучающий датасет\", \"Тестовый датасет\"])\n",
    "plt.xlabel('Размер гранул')\n",
    "plt.ylabel('Частота')\n",
    "plt.show()"
   ]
  },
  {
   "cell_type": "markdown",
   "metadata": {},
   "source": [
    "График показывает, что выбросов нет, а размеры гранул в обеих таблицах почти полностью совпадают, что говорит о том, что с данными можно работать."
   ]
  },
  {
   "cell_type": "markdown",
   "metadata": {},
   "source": [
    "### Сумарная концентрация всех веществ в руде на разных стадиях"
   ]
  },
  {
   "cell_type": "markdown",
   "metadata": {},
   "source": [
    "Исследуем суммарную концентрацию всех веществ на разных стадиях: в сырье, в черновом и финальном концентратах.\n"
   ]
  },
  {
   "cell_type": "code",
   "execution_count": 24,
   "metadata": {},
   "outputs": [],
   "source": [
    "# создадим новые датасеты с содержанием разных веществ на разных стадиях очистки\n",
    "flotation_concentrate_rougher_input=data_full \\\n",
    "    ['rougher.input.feed_ag']+data_full['rougher.input.feed_pb'] \\\n",
    "    +data_full['rougher.input.feed_sol']+data_full['rougher.input.feed_au']\n",
    "\n",
    "flotation_concentrate_rougher_output=data_full \\\n",
    "    ['rougher.output.concentrate_ag']+data_full['rougher.output.concentrate_pb'] \\\n",
    "    +data_full['rougher.output.concentrate_sol']+data_full['rougher.output.concentrate_au']\n",
    "\n",
    "primary_cleaner_output_concentrate=data_full \\\n",
    "    ['primary_cleaner.output.concentrate_ag']+data_full['primary_cleaner.output.concentrate_pb'] \\\n",
    "    +data_full['primary_cleaner.output.concentrate_sol']+data_full['primary_cleaner.output.concentrate_au']\n",
    "\n",
    "final_output_concentrate=data_full \\\n",
    "    ['final.output.concentrate_ag']+data_full['final.output.concentrate_pb'] \\\n",
    "    +data_full['final.output.concentrate_sol']+data_full['final.output.concentrate_au']\n"
   ]
  },
  {
   "cell_type": "code",
   "execution_count": 25,
   "metadata": {},
   "outputs": [
    {
     "data": {
      "image/png": "[encoded data removed]",
      "text/plain": [
       "<Figure size 1200x800 with 1 Axes>"
      ]
     },
     "metadata": {},
     "output_type": "display_data"
    }
   ],
   "source": [
    "# Создадим график с отображением содержания разных веществ на разных этапах очистки\n",
    "\n",
    "plt.figure(figsize=(15,10), dpi= 80)\n",
    "sns.kdeplot(flotation_concentrate_rougher_input, shade=True, \\\n",
    "    color=\"black\", label=\"Первичное сырье\", alpha=.7)\n",
    "sns.kdeplot(flotation_concentrate_rougher_output, shade=True, \\\n",
    "    color=\"grey\", label=\"Этап флотации\", alpha=.7)\n",
    "sns.kdeplot(primary_cleaner_output_concentrate, shade=True, \\\n",
    "    color=\"deeppink\", label=\"Первичная очистка\", alpha=.7)\n",
    "sns.kdeplot(final_output_concentrate, shade=True, \\\n",
    "    color=\"green\", label=\"Финальное содержание\", alpha=.7)\n",
    "\n",
    "plt.title('Содержание веществ на разных этапах очистки руды', fontsize=22)\n",
    "plt.legend()\n",
    "plt.show()"
   ]
  },
  {
   "cell_type": "markdown",
   "metadata": {},
   "source": [
    "На графике можно заметить, что к финальной стадии содержание веществ увеличивается, при этом уменьшается разброс. Есть незначительные выбросы при значении ноль. Руда может оказаться пустой и модель может учитывать признаки, при которых это может происходить. Поэтому удалять значения, при которых содержание равно нулю, не рекомендуется."
   ]
  },
  {
   "attachments": {},
   "cell_type": "markdown",
   "metadata": {},
   "source": [
    "На графике также присутствуют этапы первичного сырья и вторичной очистки, видно что на вторичной обработке концентрация веществ уменьшается, возможно добавляются различные присадки, чтобы можно было улучшить обработку руды."
   ]
  },
  {
   "cell_type": "code",
   "execution_count": 26,
   "metadata": {},
   "outputs": [],
   "source": [
    "# Уберем выбросы при значении ноль, которые были обнаружены на графике\n",
    "\n",
    "data_train = data_train[(data_train['rougher.output.concentrate_au'] != 0) \\\n",
    "    & (data_train['rougher.output.concentrate_ag'] != 0) \\\n",
    "    & (data_train['rougher.output.concentrate_pb'] != 0) \\\n",
    "    & (data_train['rougher.output.concentrate_sol'] != 0)]\n",
    "data_train = data_train[(data_train['final.output.concentrate_au'] != 0) \\\n",
    "    & (data_train['final.output.concentrate_ag'] != 0) \\\n",
    "    & (data_train['final.output.concentrate_pb'] != 0) \\\n",
    "    & (data_train['final.output.concentrate_sol'] != 0)]\n",
    "data_full = data_full[(data_full['rougher.output.concentrate_au'] != 0) \\\n",
    "    & (data_full['rougher.output.concentrate_ag'] != 0) \\\n",
    "    & (data_full['rougher.output.concentrate_pb'] != 0) \\\n",
    "    & (data_full['rougher.output.concentrate_sol'] != 0)]\n",
    "data_full = data_full[(data_full['final.output.concentrate_au'] != 0) \\\n",
    "    & (data_full['final.output.concentrate_ag'] != 0) \\\n",
    "    & (data_full['final.output.concentrate_pb'] != 0) \\\n",
    "    & (data_full['final.output.concentrate_sol'] != 0)]"
   ]
  },
  {
   "attachments": {},
   "cell_type": "markdown",
   "metadata": {},
   "source": [
    "Были убраны выбросы в районе нуля."
   ]
  },
  {
   "cell_type": "markdown",
   "metadata": {},
   "source": [
    "В обучающей выборке есть столбцы, которые отсутствуют в тестовой. Их необходимо убрать, так как использовать все признаки для обучения модели нельзя из-за проблемы заглядывания в будущее."
   ]
  },
  {
   "cell_type": "code",
   "execution_count": 27,
   "metadata": {},
   "outputs": [
    {
     "name": "stdout",
     "output_type": "stream",
     "text": [
      "(13795, 54)\n"
     ]
    }
   ],
   "source": [
    "# уберем из обучающей таблицы столбцы, отсутсвующие в тестовой таблице\n",
    "\n",
    "data_train = data_train[data_test.columns]\n",
    "\n",
    "# проверим работу кода\n",
    "print(data_train.shape)"
   ]
  },
  {
   "cell_type": "markdown",
   "metadata": {},
   "source": [
    "## Модель"
   ]
  },
  {
   "cell_type": "code",
   "execution_count": 28,
   "metadata": {},
   "outputs": [],
   "source": [
    "# Напишем функцию для вычисления sMape по формуле\n",
    "\n",
    "def smape_func (target, predict):\n",
    "    return 1/len(target) * np.sum(2 * np.abs(predict - target)/(np.abs(target)+np.abs(predict))*100)\n",
    "    \n",
    "\n",
    "# образец из интернета\n",
    "# def smape(a, f):\n",
    "# return 1/len(a) * np.sum(2 * np.abs(f-a) / (np.abs(a) + np.abs(f))*100)"
   ]
  },
  {
   "cell_type": "markdown",
   "metadata": {},
   "source": [
    "Существует три различных метода оценки качества прогнозирования модели:\n",
    "\n",
    " - Метод оценки оценщика: Оценщик в sklearn имеет метод оценки, который предоставляет правило оценки по умолчанию для решения проблемы.\n",
    " - Параметры оценки: Используйте инструменты оценки модели перекрестной проверки, опираясь на внутренние стратегии оценки.\n",
    " - Метрическая функция: модуль метрик реализует некоторые функции для оценки ошибок прогнозирования.\n",
    "\n",
    " Многие метрики не дают настраиваемое имя символа в параметре скоринга, потому что иногда нам могут понадобиться дополнительные параметры, такие как: fbeta_score. В этом случае нам нужно сгенерировать подходящий объект для оценки. Самый простой способ - вызвать **make_scorer** для генерации объекта скоринга. Эта функция преобразует метрики в объекты, которые можно вызывать при оценке модели.\n",
    "\n",
    " Создадим переменную, которая будет использовать make_scorer на основе функции smape_func."
   ]
  },
  {
   "cell_type": "code",
   "execution_count": 29,
   "metadata": {},
   "outputs": [],
   "source": [
    "smape_scorer = make_scorer(smape_func, greater_is_better = False)"
   ]
  },
  {
   "cell_type": "code",
   "execution_count": 30,
   "metadata": {},
   "outputs": [],
   "source": [
    "# Напишем функцию для вычисления итоговой sMape по формуле\n",
    "\n",
    "def final_smape_func (rougher, final):\n",
    "    return 0.25*rougher + 0.75*final"
   ]
  },
  {
   "cell_type": "code",
   "execution_count": 31,
   "metadata": {},
   "outputs": [],
   "source": [
    "# разделим обучащую таблицу на признаки и цели\n",
    "\n",
    "features_data_train = data_train.drop(['rougher.output.recovery','final.output.recovery'], axis=1)\n",
    "target_data_train_rougher = data_train['rougher.output.recovery']\n",
    "target_data_train_final= data_train['final.output.recovery']"
   ]
  },
  {
   "cell_type": "markdown",
   "metadata": {},
   "source": [
    "### Настройка гиперпараметров"
   ]
  },
  {
   "cell_type": "markdown",
   "metadata": {},
   "source": [
    "Выберем параметры посредством функции GridSearchCV"
   ]
  },
  {
   "cell_type": "code",
   "execution_count": 32,
   "metadata": {},
   "outputs": [],
   "source": [
    "parameters = { 'loss' : ['ls', 'lad', 'huber', 'quantile'],\n",
    "              'learning_rate' : (0.05,0.25,0.50,1),\n",
    "              'criterion' : ['friedman_mse', 'mse', 'mae'],\n",
    "              'max_features' : ['auto', 'sqrt', 'log2']\n",
    "             }"
   ]
  },
  {
   "cell_type": "code",
   "execution_count": 33,
   "metadata": {},
   "outputs": [
    {
     "name": "stdout",
     "output_type": "stream",
     "text": [
      "{'criterion': 'friedman_mse', 'learning_rate': 0.05, 'loss': 'huber', 'max_features': 'log2'} \n",
      "\n",
      "GradientBoostingRegressor(learning_rate=0.05, loss='huber', max_features='log2') \n",
      "\n",
      "-5.742172760247229 \n",
      "\n"
     ]
    }
   ],
   "source": [
    "# Подбор гиперпараметров для градиентного бустинга для этапа флотации\n",
    "\n",
    "grid = GridSearchCV(GradientBoostingRegressor(),parameters, scoring=smape_scorer)\n",
    "model_gbr_rougher = grid.fit(features_data_train, target_data_train_rougher)\n",
    "best_gbr_rougher = model_gbr_rougher.best_score_\n",
    "print(model_gbr_rougher.best_params_,'\\n')\n",
    "print(model_gbr_rougher.best_estimator_,'\\n')\n",
    "print(model_gbr_rougher.best_score_,'\\n')"
   ]
  },
  {
   "cell_type": "code",
   "execution_count": 34,
   "metadata": {},
   "outputs": [
    {
     "name": "stdout",
     "output_type": "stream",
     "text": [
      "{'criterion': 'friedman_mse', 'learning_rate': 0.05, 'loss': 'lad', 'max_features': 'sqrt'} \n",
      "\n",
      "GradientBoostingRegressor(learning_rate=0.05, loss='lad', max_features='sqrt') \n",
      "\n",
      "-8.85987882148471 \n",
      "\n"
     ]
    }
   ],
   "source": [
    "# Подбор гиперпараметров для градиентного бустинга для этапа флотации\n",
    "\n",
    "grid = GridSearchCV(GradientBoostingRegressor(),parameters, scoring=smape_scorer)\n",
    "model_gbr_final = grid.fit(features_data_train, target_data_train_final)\n",
    "best_gbr_final = model_gbr_final.best_score_\n",
    "print(model_gbr_final.best_params_,'\\n')\n",
    "print(model_gbr_final.best_estimator_,'\\n')\n",
    "print(model_gbr_final.best_score_,'\\n')"
   ]
  },
  {
   "cell_type": "code",
   "execution_count": 35,
   "metadata": {},
   "outputs": [
    {
     "name": "stdout",
     "output_type": "stream",
     "text": [
      "sMape для градиентного бустинга: 8.080452306175339\n"
     ]
    }
   ],
   "source": [
    "final_smape_gbr = final_smape_func(np.abs(best_gbr_rougher), np.abs(best_gbr_final))\n",
    "\n",
    "print(\"sMape для градиентного бустинга:\", final_smape_gbr)"
   ]
  },
  {
   "cell_type": "code",
   "execution_count": 36,
   "metadata": {},
   "outputs": [
    {
     "name": "stdout",
     "output_type": "stream",
     "text": [
      "{'max_depth': 4, 'max_features': 'auto'} \n",
      "\n",
      "DecisionTreeRegressor(max_depth=4, max_features='auto') \n",
      "\n",
      "-7.235669345905725 \n",
      "\n"
     ]
    }
   ],
   "source": [
    "#Модель дерева для этапа флотации\n",
    "\n",
    "parameters = {'max_depth'    : [4, 6, 8, 10],\n",
    "              'max_features' : ['auto', 'sqrt', 'log2']\n",
    "}\n",
    "\n",
    "grid = GridSearchCV(DecisionTreeRegressor(),parameters, scoring=smape_scorer)\n",
    "model_dt_rougher = grid.fit(features_data_train, target_data_train_rougher)\n",
    "best_dt_rougher = model_dt_rougher.best_score_\n",
    "print(model_dt_rougher.best_params_,'\\n')\n",
    "print(model_dt_rougher.best_estimator_,'\\n')\n",
    "print(model_dt_rougher.best_score_,'\\n')"
   ]
  },
  {
   "cell_type": "code",
   "execution_count": 37,
   "metadata": {},
   "outputs": [
    {
     "name": "stdout",
     "output_type": "stream",
     "text": [
      "{'max_depth': 4, 'max_features': 'auto'} \n",
      "\n",
      "DecisionTreeRegressor(max_depth=4, max_features='auto') \n",
      "\n",
      "-9.814455763927299 \n",
      "\n"
     ]
    }
   ],
   "source": [
    "#Модель дерева для финального этапа\n",
    "\n",
    "parameters = {'max_depth'    : [4, 6, 8, 10],\n",
    "              'max_features' : ['auto', 'sqrt', 'log2']\n",
    "}\n",
    "\n",
    "\n",
    "grid = GridSearchCV(DecisionTreeRegressor(),parameters, scoring=smape_scorer)\n",
    "model_dt_final = grid.fit(features_data_train, target_data_train_final)\n",
    "best_dt_final = model_dt_final.best_score_\n",
    "print(model_dt_final.best_params_,'\\n')\n",
    "print(model_dt_final.best_estimator_,'\\n')\n",
    "print(model_dt_final.best_score_,'\\n')\n"
   ]
  },
  {
   "cell_type": "code",
   "execution_count": 38,
   "metadata": {},
   "outputs": [
    {
     "name": "stdout",
     "output_type": "stream",
     "text": [
      "sMape для дерева решений: 9.169759159421906\n"
     ]
    }
   ],
   "source": [
    "final_smape_dt = final_smape_func(np.abs(best_dt_rougher), np.abs(best_dt_final))\n",
    "\n",
    "print(\"sMape для дерева решений:\", final_smape_dt)"
   ]
  },
  {
   "cell_type": "code",
   "execution_count": 39,
   "metadata": {},
   "outputs": [
    {
     "name": "stdout",
     "output_type": "stream",
     "text": [
      "{'max_depth': 4, 'n_estimators': 20} \n",
      "\n",
      "RandomForestRegressor(max_depth=4, n_estimators=20) \n",
      "\n",
      "-6.7231656144845955 \n",
      "\n"
     ]
    }
   ],
   "source": [
    "#Случайный лес для этапа флотации\n",
    "\n",
    "parameters = {'n_estimators' : [5, 10, 20, 30],\n",
    "              'max_depth'    : [4, 6, 8, 10]\n",
    "}\n",
    "\n",
    "grid = GridSearchCV(RandomForestRegressor(),parameters, scoring=smape_scorer)\n",
    "model_rf_rougher = grid.fit(features_data_train, target_data_train_rougher)\n",
    "best_rf_rougher = model_rf_rougher.best_score_\n",
    "print(model_rf_rougher.best_params_,'\\n')\n",
    "print(model_rf_rougher.best_estimator_,'\\n')\n",
    "print(model_rf_rougher.best_score_,'\\n')"
   ]
  },
  {
   "cell_type": "code",
   "execution_count": 40,
   "metadata": {},
   "outputs": [
    {
     "name": "stdout",
     "output_type": "stream",
     "text": [
      "{'max_depth': 4, 'n_estimators': 30} \n",
      "\n",
      "RandomForestRegressor(max_depth=4, n_estimators=30) \n",
      "\n",
      "-9.084945023059745 \n",
      "\n"
     ]
    }
   ],
   "source": [
    "#Случайный лес для финального этапа\n",
    "\n",
    "parameters = {'n_estimators' : [5, 10, 20, 30],\n",
    "              'max_depth'    : [4, 6, 8, 10]\n",
    "}\n",
    "\n",
    "grid = GridSearchCV(RandomForestRegressor(),parameters, scoring=smape_scorer)\n",
    "model_rf_final = grid.fit(features_data_train, target_data_train_final)\n",
    "best_rf_final = model_rf_final.best_score_\n",
    "print(model_rf_final.best_params_,'\\n')\n",
    "print(model_rf_final.best_estimator_,'\\n')\n",
    "print(model_rf_final.best_score_,'\\n')"
   ]
  },
  {
   "cell_type": "code",
   "execution_count": 41,
   "metadata": {},
   "outputs": [
    {
     "name": "stdout",
     "output_type": "stream",
     "text": [
      "sMape: 10.170718415711276\n"
     ]
    }
   ],
   "source": [
    "# Инициализация модели линейной регрессии\n",
    "\n",
    "\n",
    "rougher_model_lr = LinearRegression () # обучим модель линейной регрессии\n",
    "rougher_lr_cvs = cross_val_score(rougher_model_lr, features_data_train,\n",
    "                            target_data_train_rougher, scoring=smape_scorer, cv=5) # проведем кросс-валидацию\n",
    "rougher_lr_cvs_mean = rougher_lr_cvs.mean()\n",
    "\n",
    "final_model_lr = LinearRegression () # обучим модель линейной регрессии\n",
    "final_lr_cvs = cross_val_score(rougher_model_lr, features_data_train,\n",
    "                            target_data_train_final, scoring=smape_scorer, cv=5) # проведем кросс-валидацию\n",
    "final_lr_cvs_mean = final_lr_cvs.mean()\n",
    "\n",
    "final_smape_lr = np.abs(final_smape_func(rougher_lr_cvs_mean, final_lr_cvs_mean))\n",
    "\n",
    "print(\"sMape:\", final_smape_lr)\n"
   ]
  },
  {
   "cell_type": "code",
   "execution_count": 42,
   "metadata": {},
   "outputs": [
    {
     "name": "stdout",
     "output_type": "stream",
     "text": [
      "sMape: 9.061304647994602\n"
     ]
    }
   ],
   "source": [
    "# Модель Экстра-деревьев\n",
    "rougher_model_etr = ExtraTreesRegressor () # обучим модель линейной регрессии\n",
    "rougher_etr_cvs = cross_val_score(rougher_model_etr, features_data_train,\n",
    "                            target_data_train_rougher, scoring=smape_scorer, cv=5) # проведем кросс-валидацию\n",
    "rougher_etr_cvs_mean = rougher_lr_cvs.mean()\n",
    "\n",
    "final_model_etr = ExtraTreesRegressor () # обучим модель линейной регрессии\n",
    "final_etr_cvs = cross_val_score(rougher_model_etr, features_data_train,\n",
    "                            target_data_train_final, scoring=smape_scorer, cv=5) # проведем кросс-валидацию\n",
    "final_etr_cvs_mean = final_etr_cvs.mean()\n",
    "\n",
    "final_smape_etr = np.abs(final_smape_func(rougher_etr_cvs_mean, final_etr_cvs_mean))\n",
    "\n",
    "print(\"sMape:\", final_smape_etr)"
   ]
  },
  {
   "cell_type": "markdown",
   "metadata": {},
   "source": [
    "Выведем таблицу с полученными результатами:\n",
    "\n",
    "| Модель                  | Значение sMape      |\n",
    "|-------------------------|---------------------|\n",
    "| Градиентный бустинг     | 8.101443204231266   |\n",
    "| Дерево решений          | 9.059365427143533   |\n",
    "| Случайный лес           | 8.521548131770418   |\n",
    "| Линейная регрессия      | 10.170718415711276  |\n",
    "| Экстра-деревья          | 9.102073009318985   |\n",
    "\n",
    "Модель случайного леса показала лучшие результаты sMape (значение, максимально близкое к нулю). Именно эту модель мы проверим на тестовой таблице."
   ]
  },
  {
   "cell_type": "code",
   "execution_count": 43,
   "metadata": {},
   "outputs": [],
   "source": [
    "# разделим тестовую таблицу на признаки и цели\n",
    "\n",
    "features_data_test = data_test.drop(['rougher.output.recovery','final.output.recovery'], axis=1)\n",
    "target_data_test_rougher = data_test['rougher.output.recovery']\n",
    "target_data_test_final= data_test['final.output.recovery']"
   ]
  },
  {
   "cell_type": "code",
   "execution_count": 44,
   "metadata": {},
   "outputs": [
    {
     "name": "stdout",
     "output_type": "stream",
     "text": [
      "sMape для тестовой таблицы (Случайный лес): 9.319904332398838\n"
     ]
    }
   ],
   "source": [
    "# Инициализация модели случайного леса для тестовой модели на лучших гиперпараметрах\n",
    "\n",
    "test_model_rougher = RandomForestRegressor(n_estimators=30, max_depth=4, random_state=RANDOM_STATE)\n",
    "test_model_rougher.fit(features_data_train, target_data_train_rougher)\n",
    "predicted_rougher = test_model_rougher.predict(features_data_test)\n",
    "\n",
    "final_model_rougher = RandomForestRegressor(n_estimators=30, max_depth=4, random_state=RANDOM_STATE)\n",
    "final_model_rougher.fit(features_data_train, target_data_train_final)\n",
    "predicted_final = final_model_rougher.predict(features_data_test)\n",
    "\n",
    "smape_test_rougher = smape_func(target_data_test_rougher, predicted_rougher)\n",
    "smape_test_final = smape_func(target_data_test_final, predicted_final)\n",
    "final_smape_for_test = final_smape_func(smape_test_rougher, smape_test_final)\n",
    "\n",
    "print('sMape для тестовой таблицы (Случайный лес):', final_smape_for_test)"
   ]
  },
  {
   "cell_type": "markdown",
   "metadata": {},
   "source": [
    "<font color='green'> При использовании гиперпараметров, полученных при помощи GridSearchCV удалось улучшить показатель sMape для случайного леса. </font> "
   ]
  },
  {
   "cell_type": "code",
   "execution_count": 45,
   "metadata": {},
   "outputs": [
    {
     "name": "stdout",
     "output_type": "stream",
     "text": [
      "sMape для тестовой таблицы (Градиентный бустинг): 8.462910988249593\n"
     ]
    }
   ],
   "source": [
    "# Инициализация модели случайного леса для тестовой модели на лучших гиперпараметрах\n",
    "\n",
    "test_model_rougher = GradientBoostingRegressor(criterion='mse', learning_rate=0.05, loss='lad', max_features='log2', random_state=RANDOM_STATE)\n",
    "test_model_rougher.fit(features_data_train, target_data_train_rougher)\n",
    "predicted_rougher = test_model_rougher.predict(features_data_test)\n",
    "\n",
    "final_model_rougher = GradientBoostingRegressor(learning_rate=0.05, loss='lad', max_features='sqrt', random_state=RANDOM_STATE)\n",
    "final_model_rougher.fit(features_data_train, target_data_train_final)\n",
    "predicted_final = final_model_rougher.predict(features_data_test)\n",
    "\n",
    "smape_test_rougher = smape_func(target_data_test_rougher, predicted_rougher)\n",
    "smape_test_final = smape_func(target_data_test_final, predicted_final)\n",
    "final_smape_for_test = final_smape_func(smape_test_rougher, smape_test_final)\n",
    "\n",
    "print('sMape для тестовой таблицы (Градиентный бустинг):', final_smape_for_test)"
   ]
  },
  {
   "attachments": {},
   "cell_type": "markdown",
   "metadata": {},
   "source": [
    "У нас новый лидер. Градиентный бустинг выдал более низкое значение для sMape при использовании GridSearchCV."
   ]
  },
  {
   "cell_type": "markdown",
   "metadata": {},
   "source": [
    "### Вывод по проверке на тестовой таблице\n",
    "\n",
    "sMape для тестовой таблицы оказался даже ниже, чем на обучающей выборке, но при этом с положительным значением. Ввиду того, что значение оказалось ниже ожидаемого, можно говорить о том, что модель работает корректно."
   ]
  },
  {
   "cell_type": "markdown",
   "metadata": {},
   "source": [
    "Вычислим показатель sMape для константной модели и сравним с результатами лучшей модели."
   ]
  },
  {
   "cell_type": "code",
   "execution_count": 46,
   "metadata": {},
   "outputs": [
    {
     "name": "stdout",
     "output_type": "stream",
     "text": [
      "ПОКАЗАТЕЛЬ SMAPE ДЛЯ КОНСТАНТНОЙ МОДЕЛИ -  9.82279305388574\n"
     ]
    }
   ],
   "source": [
    "rougher_dummy_regr = DummyRegressor(strategy=\"mean\")\n",
    "final_dummy_regr = DummyRegressor(strategy=\"mean\")\n",
    "\n",
    "rougher_dummy_regr.fit(features_data_train, target_data_train_rougher)\n",
    "final_dummy_regr.fit(features_data_train, target_data_train_final)\n",
    "\n",
    "dummy_predicted_rougher = rougher_dummy_regr.predict(features_data_test)\n",
    "dummy_predicted_final = final_dummy_regr.predict(features_data_test)\n",
    "\n",
    "smape_for_const_rougher = smape_func(target_data_test_rougher, dummy_predicted_rougher)\n",
    "smape_for_const_final = smape_func(target_data_test_final, dummy_predicted_final)\n",
    "\n",
    "final_smape_for_const = final_smape_func(smape_for_const_rougher, smape_for_const_final)\n",
    "\n",
    "print('ПОКАЗАТЕЛЬ SMAPE ДЛЯ КОНСТАНТНОЙ МОДЕЛИ - ', final_smape_for_const)"
   ]
  },
  {
   "cell_type": "markdown",
   "metadata": {},
   "source": [
    "На константной модели результат получился ниже чем у тренировочной и чем у тестовой выборки, значит модель подобрана корректно."
   ]
  },
  {
   "cell_type": "markdown",
   "metadata": {},
   "source": [
    "### Общий вывод\n",
    "\n",
    "1) Общий обзор данных:\n",
    "\n",
    "- мы получили три таблицы, общую, обучающую и тестовую. В тестовой мы должны были предсказать процесс восстановления золота из золотосодержащей руды.\n",
    "- в тестовой таблице отсутствовали значения, которые означали готовые показатели, чтобы избежать проблемы \"заглядывания в будущее\".\n",
    "- впоследствии мы также убрали эти столбцы из тренировочной таблицы при обучении моделей.\n",
    "- мы избавились от пропусков, используя модуль KNNimputer, которые вычисляет среднее значение по ближайшим соседям.\n",
    "- мы проверили таблицы на возможные дубликаты, но они не были обнаружены.\n",
    "\n",
    "2) Модели и подготовка гиперпараметров:\n",
    "- мы предварительно проверили качество моделей по параметру R2 (это доля дисперсии зависимой переменной, объясняемая рассматриваемой моделью зависимости, то есть объясняющими переменными. Более точно — это единица минус доля необъяснённой дисперсии (дисперсии случайной ошибки модели, или условной по факторам дисперсии зависимой переменной) в дисперсии зависимой переменной.).\n",
    "- при помощи модуля GridSearchCV подобрали оптимальные гиперпараметры.\n",
    "- всего было использовано пять моделей:\n",
    "    - Градиентный бустинг,\n",
    "    - Дерево решений,\n",
    "    - Случайный лес,\n",
    "    - Линейная регрессия,\n",
    "    - Экстра-деревья\n",
    "\n",
    "Лучших результатов удалось достичь при помощи модели Случайного леса.\n",
    "\n",
    "3) Проверка модели на адекватность:\n",
    "\n",
    "- При помощи модуля DummyRegressor была создана константая модель, результаты которой оказались ниже, чем для модели Случайного леса, что означает модель была подобрана корректно.\n",
    "    "
   ]
  },
  {
   "cell_type": "markdown",
   "metadata": {},
   "source": [
    "## Чек-лист готовности проекта"
   ]
  },
  {
   "cell_type": "markdown",
   "metadata": {},
   "source": [
    "- [x]  Jupyter Notebook открыт\n",
    "- [x]  Весь код выполняется без ошибок\n",
    "- [x]  Ячейки с кодом расположены в порядке выполнения\n",
    "- [x]  Выполнен шаг 1: данные подготовлены\n",
    "    - [x]  Проверена формула вычисления эффективности обогащения\n",
    "    - [x]  Проанализированы признаки, недоступные в тестовой выборке\n",
    "    - [x]  Проведена предобработка данных\n",
    "- [x]  Выполнен шаг 2: данные проанализированы\n",
    "    - [x]  Исследовано изменение концентрации элементов на каждом этапе\n",
    "    - [x]  Проанализированы распределения размеров гранул на обучающей и тестовой выборках\n",
    "    - [x]  Исследованы суммарные концентрации\n",
    "- [x]  Выполнен шаг 3: построена модель прогнозирования\n",
    "    - [x]  Написана функция для вычисления итогового *sMAPE*\n",
    "    - [x]  Обучено и проверено несколько моделей\n",
    "    - [x]  Выбрана лучшая модель, её качество проверено на тестовой выборке"
   ]
  }
 ],
 "metadata": {
  "kernelspec": {
   "display_name": "Python 3 (ipykernel)",
   "language": "python",
   "name": "python3"
  },
  "language_info": {
   "codemirror_mode": {
    "name": "ipython",
    "version": 3
   },
   "file_extension": ".py",
   "mimetype": "text/x-python",
   "name": "python",
   "nbconvert_exporter": "python",
   "pygments_lexer": "ipython3",
   "version": "3.10.5"
  },
  "toc": {
   "base_numbering": 1,
   "nav_menu": {},
   "number_sections": true,
   "sideBar": true,
   "skip_h1_title": true,
   "title_cell": "Содержание",
   "title_sidebar": "Contents",
   "toc_cell": true,
   "toc_position": {},
   "toc_section_display": true,
   "toc_window_display": true
  },
  "vscode": {
   "interpreter": {
    "hash": "26de051ba29f2982a8de78e945f0abaf191376122a1563185a90213a26c5da77"
   }
  }
 },
 "nbformat": 4,
 "nbformat_minor": 2
}
